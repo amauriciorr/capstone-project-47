{
 "cells": [
  {
   "cell_type": "code",
   "execution_count": 3,
   "metadata": {},
   "outputs": [],
   "source": [
    "import pandas as pd\n",
    "import numpy as np\n",
    "import matplotlib.pyplot as plt\n",
    "from operator import itemgetter\n",
    "from string import digits\n",
    "import re"
   ]
  },
  {
   "cell_type": "code",
   "execution_count": 30,
   "metadata": {
    "scrolled": true
   },
   "outputs": [
    {
     "data": {
      "text/plain": [
       "[[\"'bout\", 'B', 'AW1', 'T'],\n",
       " [\"'cause\", 'K', 'AH0', 'Z'],\n",
       " [\"'course\", 'K', 'AO1', 'R', 'S'],\n",
       " [\"'cuse\", 'K', 'Y', 'UW1', 'Z'],\n",
       " [\"'em\", 'AH0', 'M']]"
      ]
     },
     "execution_count": 30,
     "metadata": {},
     "output_type": "execute_result"
    }
   ],
   "source": [
    "# Read in English dataset\n",
    "english = '../data/cmudict/cmudict.dict'\n",
    "data = []\n",
    "with open(english, 'r') as infile:\n",
    "        for line in infile:\n",
    "                    data.append((line.rstrip('\\n').split(' ')))\n",
    "data[:5]"
   ]
  },
  {
   "cell_type": "code",
   "execution_count": 7,
   "metadata": {},
   "outputs": [],
   "source": [
    "# Read in data\n",
    "english = '../data/cmudict/cmudict.dict'\n",
    "data = []\n",
    "\n",
    "with open(english) as f:\n",
    "        lines = f.readlines()\n",
    "for line in lines:\n",
    "    pairs = line.strip('\\n').split(' ')\n",
    "    for pair in pairs:\n",
    "        if re.search(r'(\\d)', pair) or '#' in pair:\n",
    "        # skipping any alternate pronunciations, which are denoted by (2) or (3)\n",
    "        # similarly, skipping any words of foreign descent, denoted by '#'\n",
    "            continue\n",
    "        else:\n",
    "            # remove \n",
    "            pair = re.sub(r'\\d', '', pair)\n",
    "            pair = re.sub(r'[^A-Za-z\\s]', '?', pair)\n",
    "    data.append(pairs)"
   ]
  },
  {
   "cell_type": "code",
   "execution_count": null,
   "metadata": {},
   "outputs": [],
   "source": [
    "# Read in data\n",
    "english = '../data/cmudict/cmudict.dict'\n",
    "data = []\n",
    "\n",
    "with open(english) as f:\n",
    "        lines = f.readlines()\n",
    "for line in lines:\n",
    "    pairs = line.strip('\\n').split(' ', 1)\n",
    "    if re.search(r'(\\d)', pairs[0]) or '#' in pairs[1]:\n",
    "        # skipping any alternate pronunciations, which are denoted by (2) or (3)\n",
    "        # similarly, skipping any words of foreign descent, denoted by '#'\n",
    "        continue\n",
    "    else:\n",
    "        # remove \n",
    "        pairs[1] = re.sub(r'\\d', '', pairs[1])\n",
    "        pairs[0] = re.sub(r'[^A-Za-z\\s]', '?', pairs[0])\n",
    "        data.append(pairs)"
   ]
  },
  {
   "cell_type": "code",
   "execution_count": 31,
   "metadata": {},
   "outputs": [],
   "source": [
    "# There were words included that weren't in English, so removing those and storing elsewhere for now\n",
    "not_english = []\n",
    "for item in data:\n",
    "    if '#' in item:\n",
    "        not_english.append(item)\n",
    "    else:\n",
    "        for word in item:\n",
    "            if '(' in word:\n",
    "                 not_english.append(item)"
   ]
  },
  {
   "cell_type": "code",
   "execution_count": 34,
   "metadata": {},
   "outputs": [],
   "source": [
    "data_clean = []\n",
    "for item in data:\n",
    "    if item not in not_english:\n",
    "        data_clean.append(item)"
   ]
  },
  {
   "cell_type": "code",
   "execution_count": 35,
   "metadata": {},
   "outputs": [
    {
     "data": {
      "text/plain": [
       "0"
      ]
     },
     "execution_count": 35,
     "metadata": {},
     "output_type": "execute_result"
    }
   ],
   "source": [
    "(len(data) - len(not_english)) - len(data_clean)"
   ]
  },
  {
   "cell_type": "code",
   "execution_count": 36,
   "metadata": {},
   "outputs": [],
   "source": [
    "# Adding a stop character to the end of each word and start at the beginning\n",
    "for item in data_clean:\n",
    "    item.append('stop')\n",
    "for item in data_clean:\n",
    "    item.insert(1, 'start')"
   ]
  },
  {
   "cell_type": "code",
   "execution_count": 37,
   "metadata": {},
   "outputs": [
    {
     "data": {
      "text/plain": [
       "[[\"'bout\", 'start', 'B', 'AW1', 'T', 'stop'],\n",
       " [\"'cause\", 'start', 'K', 'AH0', 'Z', 'stop'],\n",
       " [\"'course\", 'start', 'K', 'AO1', 'R', 'S', 'stop'],\n",
       " [\"'cuse\", 'start', 'K', 'Y', 'UW1', 'Z', 'stop'],\n",
       " [\"'em\", 'start', 'AH0', 'M', 'stop']]"
      ]
     },
     "execution_count": 37,
     "metadata": {},
     "output_type": "execute_result"
    }
   ],
   "source": [
    "data_clean[:5]"
   ]
  },
  {
   "cell_type": "code",
   "execution_count": 38,
   "metadata": {},
   "outputs": [],
   "source": [
    "# Extending the data so each word incrementally gains one of its phonemes\n",
    "extended_data = []\n",
    "for item in data_clean:\n",
    "        for i in range(len(item)-1):\n",
    "            extended_data.append(item[:i+2])"
   ]
  },
  {
   "cell_type": "code",
   "execution_count": 39,
   "metadata": {
    "scrolled": false
   },
   "outputs": [
    {
     "data": {
      "text/plain": [
       "[[\"'bout\", 'start'],\n",
       " [\"'bout\", 'start', 'B'],\n",
       " [\"'bout\", 'start', 'B', 'AW1'],\n",
       " [\"'bout\", 'start', 'B', 'AW1', 'T'],\n",
       " [\"'bout\", 'start', 'B', 'AW1', 'T', 'stop'],\n",
       " [\"'cause\", 'start'],\n",
       " [\"'cause\", 'start', 'K']]"
      ]
     },
     "execution_count": 39,
     "metadata": {},
     "output_type": "execute_result"
    }
   ],
   "source": [
    "extended_data[:7]"
   ]
  },
  {
   "cell_type": "code",
   "execution_count": 40,
   "metadata": {},
   "outputs": [],
   "source": [
    "with open(\"../data/model_ready/dict/processed_english.dict\", \"w\") as txt_file:\n",
    "    for line in extended_data:\n",
    "        txt_file.write(\" \".join(line) + \"\\n\")"
   ]
  },
  {
   "cell_type": "code",
   "execution_count": 41,
   "metadata": {},
   "outputs": [],
   "source": [
    "pre_process = []\n",
    "for item in extended_data:\n",
    "    pre_process.append([item[0], ' '.join(item[1:-1]), item[-1]])"
   ]
  },
  {
   "cell_type": "code",
   "execution_count": 42,
   "metadata": {},
   "outputs": [
    {
     "data": {
      "text/plain": [
       "[[\"'bout\", '', 'start'],\n",
       " [\"'bout\", 'start', 'B'],\n",
       " [\"'bout\", 'start B', 'AW1'],\n",
       " [\"'bout\", 'start B AW1', 'T'],\n",
       " [\"'bout\", 'start B AW1 T', 'stop']]"
      ]
     },
     "execution_count": 42,
     "metadata": {},
     "output_type": "execute_result"
    }
   ],
   "source": [
    "pre_process[:5]"
   ]
  },
  {
   "cell_type": "code",
   "execution_count": 43,
   "metadata": {},
   "outputs": [],
   "source": [
    "eng_df = pd.DataFrame(pre_process, columns = ['word', 'phonemes', 'label'])"
   ]
  },
  {
   "cell_type": "code",
   "execution_count": 44,
   "metadata": {},
   "outputs": [
    {
     "data": {
      "text/html": [
       "<div>\n",
       "<style scoped>\n",
       "    .dataframe tbody tr th:only-of-type {\n",
       "        vertical-align: middle;\n",
       "    }\n",
       "\n",
       "    .dataframe tbody tr th {\n",
       "        vertical-align: top;\n",
       "    }\n",
       "\n",
       "    .dataframe thead th {\n",
       "        text-align: right;\n",
       "    }\n",
       "</style>\n",
       "<table border=\"1\" class=\"dataframe\">\n",
       "  <thead>\n",
       "    <tr style=\"text-align: right;\">\n",
       "      <th></th>\n",
       "      <th>word</th>\n",
       "      <th>phonemes</th>\n",
       "      <th>label</th>\n",
       "    </tr>\n",
       "  </thead>\n",
       "  <tbody>\n",
       "    <tr>\n",
       "      <th>1</th>\n",
       "      <td>'bout</td>\n",
       "      <td>start</td>\n",
       "      <td>B</td>\n",
       "    </tr>\n",
       "    <tr>\n",
       "      <th>2</th>\n",
       "      <td>'bout</td>\n",
       "      <td>start B</td>\n",
       "      <td>AW1</td>\n",
       "    </tr>\n",
       "    <tr>\n",
       "      <th>3</th>\n",
       "      <td>'bout</td>\n",
       "      <td>start B AW1</td>\n",
       "      <td>T</td>\n",
       "    </tr>\n",
       "    <tr>\n",
       "      <th>4</th>\n",
       "      <td>'bout</td>\n",
       "      <td>start B AW1 T</td>\n",
       "      <td>stop</td>\n",
       "    </tr>\n",
       "    <tr>\n",
       "      <th>6</th>\n",
       "      <td>'cause</td>\n",
       "      <td>start</td>\n",
       "      <td>K</td>\n",
       "    </tr>\n",
       "  </tbody>\n",
       "</table>\n",
       "</div>"
      ],
      "text/plain": [
       "     word       phonemes label\n",
       "1   'bout          start     B\n",
       "2   'bout        start B   AW1\n",
       "3   'bout    start B AW1     T\n",
       "4   'bout  start B AW1 T  stop\n",
       "6  'cause          start     K"
      ]
     },
     "execution_count": 44,
     "metadata": {},
     "output_type": "execute_result"
    }
   ],
   "source": [
    "eng_df = eng_df[eng_df['phonemes'] != '']\n",
    "eng_df.head()"
   ]
  },
  {
   "cell_type": "code",
   "execution_count": 45,
   "metadata": {},
   "outputs": [
    {
     "data": {
      "text/html": [
       "<div>\n",
       "<style scoped>\n",
       "    .dataframe tbody tr th:only-of-type {\n",
       "        vertical-align: middle;\n",
       "    }\n",
       "\n",
       "    .dataframe tbody tr th {\n",
       "        vertical-align: top;\n",
       "    }\n",
       "\n",
       "    .dataframe thead th {\n",
       "        text-align: right;\n",
       "    }\n",
       "</style>\n",
       "<table border=\"1\" class=\"dataframe\">\n",
       "  <thead>\n",
       "    <tr style=\"text-align: right;\">\n",
       "      <th></th>\n",
       "      <th>word</th>\n",
       "      <th>phonemes</th>\n",
       "      <th>label</th>\n",
       "    </tr>\n",
       "  </thead>\n",
       "  <tbody>\n",
       "    <tr>\n",
       "      <th>1</th>\n",
       "      <td>'bout</td>\n",
       "      <td>start</td>\n",
       "      <td>B</td>\n",
       "    </tr>\n",
       "    <tr>\n",
       "      <th>2</th>\n",
       "      <td>'bout</td>\n",
       "      <td>start B</td>\n",
       "      <td>AW</td>\n",
       "    </tr>\n",
       "    <tr>\n",
       "      <th>3</th>\n",
       "      <td>'bout</td>\n",
       "      <td>start B AW</td>\n",
       "      <td>T</td>\n",
       "    </tr>\n",
       "    <tr>\n",
       "      <th>4</th>\n",
       "      <td>'bout</td>\n",
       "      <td>start B AW T</td>\n",
       "      <td>stop</td>\n",
       "    </tr>\n",
       "    <tr>\n",
       "      <th>6</th>\n",
       "      <td>'cause</td>\n",
       "      <td>start</td>\n",
       "      <td>K</td>\n",
       "    </tr>\n",
       "  </tbody>\n",
       "</table>\n",
       "</div>"
      ],
      "text/plain": [
       "     word      phonemes label\n",
       "1   'bout         start     B\n",
       "2   'bout       start B    AW\n",
       "3   'bout    start B AW     T\n",
       "4   'bout  start B AW T  stop\n",
       "6  'cause         start     K"
      ]
     },
     "execution_count": 45,
     "metadata": {},
     "output_type": "execute_result"
    }
   ],
   "source": [
    "remove_digits = str.maketrans('', '', digits)\n",
    "eng_df['phonemes'] = eng_df['phonemes'].str.translate(remove_digits)\n",
    "eng_df['label'] = eng_df['label'].str.translate(remove_digits)\n",
    "eng_df.head()"
   ]
  },
  {
   "cell_type": "code",
   "execution_count": 46,
   "metadata": {},
   "outputs": [
    {
     "data": {
      "text/plain": [
       "4"
      ]
     },
     "execution_count": 46,
     "metadata": {},
     "output_type": "execute_result"
    }
   ],
   "source": [
    "max_L = 2\n",
    "ix = 'B'\n",
    "for item in eng_df['label']:\n",
    "    if len(item) > max_L:\n",
    "        max_L = len(item)\n",
    "        ix = item\n",
    "max_L"
   ]
  },
  {
   "cell_type": "code",
   "execution_count": 57,
   "metadata": {},
   "outputs": [
    {
     "data": {
      "text/plain": [
       "5"
      ]
     },
     "execution_count": 57,
     "metadata": {},
     "output_type": "execute_result"
    }
   ],
   "source": [
    "len(eng_df['phonemes'].iloc[])"
   ]
  },
  {
   "cell_type": "code",
   "execution_count": 48,
   "metadata": {},
   "outputs": [],
   "source": [
    "eng_df.to_csv('../data/model_ready/dict/processed_english.csv', index = False)"
   ]
  }
 ],
 "metadata": {
  "kernelspec": {
   "display_name": "Python 3",
   "language": "python",
   "name": "python3"
  },
  "language_info": {
   "codemirror_mode": {
    "name": "ipython",
    "version": 3
   },
   "file_extension": ".py",
   "mimetype": "text/x-python",
   "name": "python",
   "nbconvert_exporter": "python",
   "pygments_lexer": "ipython3",
   "version": "3.8.3"
  }
 },
 "nbformat": 4,
 "nbformat_minor": 4
}
