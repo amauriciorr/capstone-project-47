{
 "cells": [
  {
   "cell_type": "code",
   "execution_count": 14,
   "metadata": {},
   "outputs": [],
   "source": [
    "import pandas as pd\n",
    "import numpy as np\n",
    "from string import digits\n",
    "from tokenizers import Tokenizer\n",
    "from tokenizers.models import WordLevel, BPE\n",
    "from tokenizers import normalizers\n",
    "from tokenizers.normalizers import NFD, StripAccents\n",
    "from tokenizers.trainers import WordLevelTrainer, BpeTrainer\n",
    "from tokenizers.pre_tokenizers import Whitespace\n",
    "import re"
   ]
  },
  {
   "cell_type": "code",
   "execution_count": 17,
   "metadata": {},
   "outputs": [],
   "source": [
    "languages = ['english', 'croatian', 'czech', 'dutch', 'finnish', 'french', 'icelandic', 'italian', \n",
    "            'polish', 'romanian', 'spanish']\n",
    "\n",
    "for language in languages:\n",
    "    path = '../../data/model_ready/csv/'\n",
    "    language = language\n",
    "    file_name = path+'processed_'+language+'.csv'\n",
    "    df = pd.read_csv(file_name)\n",
    "    df['phonemes'] = df['phonemes'].map(lambda row: re.sub(r'\\d', '', row))\n",
    "    df['label'] = df['label'].map(lambda row: re.sub(r'\\d', '', row))\n",
    "    df['word'] = df['word'].str.replace(r\"[\\\"\\',]\", '')\n",
    "    df['word'] = df['word'].str.replace(\"-\", ' ')\n",
    "    df = df[~df['phonemes'].str.contains('#')]\n",
    "    df = df[~df['word'].str.contains('\\.')]\n",
    "    df = df[~df['word'].str.contains('’')]\n",
    "    df = df[~df['word'].str.contains('\\(')]\n",
    "    df.to_csv(file_name, index=False) "
   ]
  },
  {
   "cell_type": "code",
   "execution_count": 25,
   "metadata": {
    "scrolled": true
   },
   "outputs": [
    {
     "data": {
      "text/plain": [
       "0"
      ]
     },
     "execution_count": 25,
     "metadata": {},
     "output_type": "execute_result"
    }
   ],
   "source": [
    "# Check to make sure it worked\n",
    "df[df['phonemes'].str.contains('#')].shape[0] + df[df['word'].str.contains('\\.')].shape[0] + \\\n",
    "    + df[df['phonemes'].str.contains('\\)')].shape[0] + df[df['phonemes'].str.contains('-')].shape[0] + \\\n",
    "    df[df['word'].str.contains('’')].shape[0]"
   ]
  }
 ],
 "metadata": {
  "kernelspec": {
   "display_name": "Python 3",
   "language": "python",
   "name": "python3"
  },
  "language_info": {
   "codemirror_mode": {
    "name": "ipython",
    "version": 3
   },
   "file_extension": ".py",
   "mimetype": "text/x-python",
   "name": "python",
   "nbconvert_exporter": "python",
   "pygments_lexer": "ipython3",
   "version": "3.6.5"
  }
 },
 "nbformat": 4,
 "nbformat_minor": 4
}
