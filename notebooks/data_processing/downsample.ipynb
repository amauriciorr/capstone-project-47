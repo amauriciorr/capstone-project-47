{
 "cells": [
  {
   "cell_type": "code",
   "execution_count": 1,
   "metadata": {},
   "outputs": [],
   "source": [
    "import pandas as pd\n",
    "import numpy as np\n",
    "from string import digits\n",
    "import re"
   ]
  },
  {
   "cell_type": "code",
   "execution_count": 23,
   "metadata": {},
   "outputs": [],
   "source": [
    "languages_d = {}\n",
    "languages = ['english', 'croatian', 'dutch', 'finnish', 'italian', \n",
    "            'spanish']\n",
    "\n",
    "for language in languages:\n",
    "    path = '../../data/model_ready/csv/'\n",
    "    language = language\n",
    "    file_name = path+'processed_'+language+'.csv'\n",
    "    df = pd.read_csv(file_name)\n",
    "    words = df['word'].unique()\n",
    "    languages_d[language] = len(words)"
   ]
  },
  {
   "cell_type": "code",
   "execution_count": 24,
   "metadata": {},
   "outputs": [
    {
     "data": {
      "text/plain": [
       "{'english': 122724,\n",
       " 'croatian': 23085,\n",
       " 'dutch': 28990,\n",
       " 'finnish': 67484,\n",
       " 'italian': 14563,\n",
       " 'spanish': 48584}"
      ]
     },
     "execution_count": 24,
     "metadata": {},
     "output_type": "execute_result"
    }
   ],
   "source": [
    "languages_d"
   ]
  },
  {
   "cell_type": "code",
   "execution_count": 27,
   "metadata": {},
   "outputs": [
    {
     "data": {
      "text/plain": [
       "14563"
      ]
     },
     "execution_count": 27,
     "metadata": {},
     "output_type": "execute_result"
    }
   ],
   "source": [
    "# \n",
    "min_word_count = min(languages_d.values())\n",
    "min_word_count"
   ]
  },
  {
   "cell_type": "code",
   "execution_count": 53,
   "metadata": {},
   "outputs": [
    {
     "name": "stdout",
     "output_type": "stream",
     "text": [
      "14563\n",
      "14563\n",
      "14563\n",
      "14563\n",
      "14563\n"
     ]
    }
   ],
   "source": [
    "languages = ['english', 'croatian', 'dutch', 'finnish', \n",
    "            'spanish']\n",
    "for language in languages:\n",
    "    path = '../../data/model_ready/csv/'\n",
    "    language = language\n",
    "    file_name = path+'processed_'+language+'.csv'\n",
    "    df = pd.read_csv(file_name)\n",
    "    words = df['word'].unique()\n",
    "    mask = np.random.choice(len(words),min_word_count, replace=False)\n",
    "    words = words[mask]\n",
    "    boolean_series = df.word.isin(words)\n",
    "    filtered_df = df[boolean_series]\n",
    "    print(len(filtered_df['word'].unique()))\n",
    "    file_name2 = path+'processed_'+language+'_ds.csv'\n",
    "    filtered_df.to_csv(file_name2, index=False) "
   ]
  }
 ],
 "metadata": {
  "kernelspec": {
   "display_name": "Python 3",
   "language": "python",
   "name": "python3"
  },
  "language_info": {
   "codemirror_mode": {
    "name": "ipython",
    "version": 3
   },
   "file_extension": ".py",
   "mimetype": "text/x-python",
   "name": "python",
   "nbconvert_exporter": "python",
   "pygments_lexer": "ipython3",
   "version": "3.6.5"
  }
 },
 "nbformat": 4,
 "nbformat_minor": 4
}
