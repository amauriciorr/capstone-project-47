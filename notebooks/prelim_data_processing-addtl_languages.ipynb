{
 "cells": [
  {
   "cell_type": "code",
   "execution_count": 10,
   "id": "b31aeda5",
   "metadata": {},
   "outputs": [],
   "source": [
    "import re\n",
    "import pandas as pd\n",
    "import pickle as pkl\n",
    "import numpy as np\n",
    "from collections import Counter \n",
    "# import seaborn as sns\n",
    "# import matplotlib.pyplot as plt"
   ]
  },
  {
   "cell_type": "code",
   "execution_count": 11,
   "id": "1c98f570",
   "metadata": {},
   "outputs": [],
   "source": [
    "cmudict = dict()\n",
    "phone_freq = Counter()\n",
    "\n",
    "with open('../data/cmudict/cmudict.dict') as f:\n",
    "    lines = f.readlines()\n",
    "\n",
    "for line in lines:\n",
    "    pairs = line.strip('\\n').split(' ', 1)\n",
    "    # as mentioned in the exploration notebook, lines including '#' are usually words\n",
    "    # of non-English origin or abbreviations and have been removed as they are not properly\n",
    "    # spoken words. Similarly, remove pronounciation variations of the same word. these are denoted\n",
    "    # by (2) or (3) for example. \n",
    "    if re.search(r'(\\d)', pairs[0]) or '#' in pairs[1]:\n",
    "        continue\n",
    "    else:\n",
    "        # re.sub() is to remove indications of primary, secondary, or non-stress in vowels for simplicity.\n",
    "        pairs[1] = re.sub(r'\\d', '', pairs[1])\n",
    "        cmudict[pairs[0]] = pairs[1]\n",
    "        phone_freq += Counter(pairs[1].split(' '))"
   ]
  },
  {
   "cell_type": "code",
   "execution_count": 41,
   "id": "5a9c67af",
   "metadata": {},
   "outputs": [
    {
     "name": "stdout",
     "output_type": "stream",
     "text": [
      "ah AA\n",
      "ahh AA\n",
      "awe AA\n",
      "abalos AA B AA L OW Z\n",
      "abare AA B AA R IY\n"
     ]
    }
   ],
   "source": [
    "import operator\n",
    "for k,v in sorted(cmudict.items(), key=operator.itemgetter(1))[:5]:\n",
    "    print (k,v)"
   ]
  },
  {
   "cell_type": "markdown",
   "id": "aa12b241",
   "metadata": {},
   "source": [
    "# Revisiting phoneme compatibility after minor pre-processing"
   ]
  },
  {
   "cell_type": "code",
   "execution_count": 13,
   "id": "7e98f462",
   "metadata": {},
   "outputs": [],
   "source": [
    "from ipapy.arpabetmapper import ARPABETMapper\n",
    "def parse_wikipron(filepath):\n",
    "    amapper = ARPABETMapper()  \n",
    "    df = pd.read_csv(filepath, encoding='utf-8', sep='\\t', header=None)\n",
    "    df.columns = ['word', 'ipa']\n",
    "    df['ARPAbet'] = df['ipa'].map(lambda row: ' '.join(amapper.map_unicode_string(row, ignore=True, return_as_list=True)))\n",
    "    phone_freq = Counter()\n",
    "    for arpa in df['ARPAbet']:\n",
    "        phone_freq += Counter(arpa.split(' '))\n",
    "    return df, phone_freq"
   ]
  },
  {
   "cell_type": "code",
   "execution_count": 14,
   "id": "b7eb262c",
   "metadata": {},
   "outputs": [],
   "source": [
    "def jaccard_similarity(dict1, dict2):\n",
    "    dict1_keys = set(dict1.keys())\n",
    "    dict2_keys = set(dict2.keys())\n",
    "    intersection = dict1_keys.intersection(dict2_keys)\n",
    "    union = dict1_keys.union(dict2_keys)\n",
    "    print('Jaccard similarity: {:.3f}'.format(len(intersection)/len(union)))\n",
    "    print('Shared phonemes: {}'.format(intersection))\n",
    "    print('All phonemes: {}'.format(union))"
   ]
  },
  {
   "cell_type": "markdown",
   "id": "a3ff8e59",
   "metadata": {},
   "source": [
    "## Icelandic"
   ]
  },
  {
   "cell_type": "code",
   "execution_count": 5,
   "id": "4497adf1",
   "metadata": {},
   "outputs": [],
   "source": [
    "ic_df, ic_phone_freq = parse_wikipron('../../Downloads/ice_latn_broad.tsv')"
   ]
  },
  {
   "cell_type": "code",
   "execution_count": 7,
   "id": "5884de79",
   "metadata": {},
   "outputs": [
    {
     "name": "stdout",
     "output_type": "stream",
     "text": [
      "Jaccard similarity: 0.610\n",
      "Shared phonemes: {'R', 'T', 'AO', 'DH', 'NG', 'N', 'W', 'K', 'L', 'TH', 'S', 'Y', 'V', 'G', 'P', 'UH', 'D', 'HH', 'F', 'EH', 'AE', 'M', 'UW', 'IH', 'B'}\n",
      "All phonemes: {'R', 'IY', 'AH', 'T', 'ZH', 'AO', 'DH', 'AY', 'N', 'NG', 'W', 'Z', 'EY', 'JH', 'AA', 'K', 'L', 'ER', 'DX', 'TH', 'CH', 'S', 'Y', 'V', 'G', 'P', 'UH', 'D', 'SH', 'OW', 'HH', 'F', 'AW', 'EH', 'AE', 'M', 'UW', 'IH', 'OH', 'B', 'OY'}\n"
     ]
    }
   ],
   "source": [
    "jaccard_similarity(phone_freq, ic_phone_freq)"
   ]
  },
  {
   "cell_type": "markdown",
   "id": "679d73db",
   "metadata": {},
   "source": [
    "## Romanian"
   ]
  },
  {
   "cell_type": "code",
   "execution_count": 10,
   "id": "86e960ab",
   "metadata": {},
   "outputs": [],
   "source": [
    "rom_df, rom_phone_freq = parse_wikipron('../../Downloads/rum_latn_narrow.tsv')"
   ]
  },
  {
   "cell_type": "code",
   "execution_count": 11,
   "id": "bab933c0",
   "metadata": {},
   "outputs": [
    {
     "name": "stdout",
     "output_type": "stream",
     "text": [
      "Jaccard similarity: 0.605\n",
      "Shared phonemes: {'R', 'ZH', 'T', 'NG', 'N', 'W', 'Z', 'JH', 'K', 'L', 'CH', 'S', 'Y', 'V', 'G', 'P', 'D', 'SH', 'HH', 'F', 'EH', 'AE', 'M', 'UW', 'IH', 'B'}\n",
      "All phonemes: {'R', 'IY', 'AH', 'T', 'ZH', 'AO', 'DH', 'AY', 'N', 'NG', 'W', 'Z', 'EY', 'JH', 'AA', 'K', 'L', 'ER', 'DX', 'TH', 'CH', 'S', 'Y', 'V', 'G', 'P', 'UH', 'D', 'SH', 'OW', 'HH', 'F', 'AW', 'EH', 'AE', 'M', 'IX', 'UW', 'IH', 'OH', 'B', 'OY', 'AX'}\n"
     ]
    }
   ],
   "source": [
    "jaccard_similarity(phone_freq, rom_phone_freq)"
   ]
  },
  {
   "cell_type": "markdown",
   "id": "2a467112",
   "metadata": {},
   "source": [
    "## Russian"
   ]
  },
  {
   "cell_type": "code",
   "execution_count": 16,
   "id": "c7862e12",
   "metadata": {},
   "outputs": [],
   "source": [
    "rus_df, rus_phone_freq = parse_wikipron('../rus_cyrl_narrow.tsv')"
   ]
  },
  {
   "cell_type": "code",
   "execution_count": 17,
   "id": "82b345e5",
   "metadata": {},
   "outputs": [
    {
     "name": "stdout",
     "output_type": "stream",
     "text": [
      "Jaccard similarity: 0.478\n",
      "Shared phonemes: {'B', 'UH', 'F', 'L', 'W', 'M', 'UW', 'G', 'T', 'K', 'N', 'AA', 'Z', 'R', 'EH', 'AE', 'D', 'Y', 'V', 'IH', 'P', 'S'}\n",
      "All phonemes: {'', 'B', 'UH', 'OW', 'F', 'HH', 'TH', 'IY', 'ZH', 'L', 'CH', 'W', 'AW', 'EY', 'UW', 'M', 'EM', 'IX', 'AY', 'ER', 'JH', 'Q', 'G', 'OY', 'T', 'NG', 'DH', 'K', 'N', 'AA', 'AH', 'Z', 'EH', 'R', 'AO', 'AE', 'SH', 'AX', 'OH', 'D', 'Y', 'V', 'IH', 'P', 'S', 'UX'}\n"
     ]
    }
   ],
   "source": [
    "jaccard_similarity(phone_freq, rus_phone_freq)"
   ]
  },
  {
   "cell_type": "markdown",
   "id": "c2c0cb8a",
   "metadata": {},
   "source": [
    "## Polish"
   ]
  },
  {
   "cell_type": "code",
   "execution_count": 18,
   "id": "b269e901",
   "metadata": {},
   "outputs": [],
   "source": [
    "pol_df, pol_phone_freq = parse_wikipron('../pol_latn_broad.tsv')"
   ]
  },
  {
   "cell_type": "code",
   "execution_count": 19,
   "id": "ceb883f9",
   "metadata": {},
   "outputs": [
    {
     "name": "stdout",
     "output_type": "stream",
     "text": [
      "Jaccard similarity: 0.558\n",
      "Shared phonemes: {'B', 'HH', 'F', 'L', 'W', 'UW', 'M', 'G', 'T', 'NG', 'K', 'N', 'AA', 'Z', 'EH', 'R', 'AO', 'AE', 'D', 'Y', 'V', 'IH', 'P', 'S'}\n",
      "All phonemes: {'', 'B', 'UH', 'OW', 'F', 'HH', 'TH', 'IY', 'ZH', 'L', 'CH', 'W', 'AW', 'EY', 'UW', 'M', 'IX', 'AY', 'ER', 'JH', 'Q', 'G', 'OY', 'T', 'NG', 'DH', 'K', 'N', 'AA', 'AH', 'Z', 'EH', 'R', 'AO', 'AE', 'SH', 'D', 'Y', 'V', 'IH', 'P', 'S', 'UX'}\n"
     ]
    }
   ],
   "source": [
    "jaccard_similarity(phone_freq, pol_phone_freq)"
   ]
  },
  {
   "cell_type": "markdown",
   "id": "24964a1b",
   "metadata": {},
   "source": [
    "## Dutch"
   ]
  },
  {
   "cell_type": "code",
   "execution_count": 22,
   "id": "c628993b",
   "metadata": {},
   "outputs": [],
   "source": [
    "dut_df, dut_phone_freq = parse_wikipron('../dut_latn_broad.tsv')"
   ]
  },
  {
   "cell_type": "code",
   "execution_count": 23,
   "id": "1df479a1",
   "metadata": {},
   "outputs": [
    {
     "name": "stdout",
     "output_type": "stream",
     "text": [
      "Jaccard similarity: 0.651\n",
      "Shared phonemes: {'B', 'UH', 'F', 'ZH', 'L', 'W', 'M', 'UW', 'JH', 'G', 'T', 'NG', 'K', 'N', 'AA', 'Z', 'AH', 'R', 'EH', 'AO', 'AE', 'SH', 'D', 'Y', 'V', 'IH', 'P', 'S'}\n",
      "All phonemes: {'', 'B', 'UH', 'OW', 'F', 'HH', 'TH', 'IY', 'ZH', 'L', 'CH', 'W', 'AW', 'EY', 'UW', 'M', 'AY', 'ER', 'JH', 'Q', 'G', 'OY', 'T', 'NG', 'DH', 'K', 'N', 'AA', 'AH', 'Z', 'EH', 'R', 'AO', 'AE', 'SH', 'AX', 'OH', 'D', 'Y', 'V', 'IH', 'P', 'S'}\n"
     ]
    }
   ],
   "source": [
    "jaccard_similarity(phone_freq, dut_phone_freq)"
   ]
  },
  {
   "cell_type": "markdown",
   "id": "bb152b75",
   "metadata": {},
   "source": [
    "## Finnish"
   ]
  },
  {
   "cell_type": "code",
   "execution_count": 25,
   "id": "61397498",
   "metadata": {},
   "outputs": [],
   "source": [
    "fin_df, fin_phone_freq = parse_wikipron('../fin_latn_broad.tsv')"
   ]
  },
  {
   "cell_type": "code",
   "execution_count": 26,
   "id": "979de7c3",
   "metadata": {},
   "outputs": [
    {
     "name": "stdout",
     "output_type": "stream",
     "text": [
      "Jaccard similarity: 0.571\n",
      "Shared phonemes: {'B', 'HH', 'F', 'ZH', 'L', 'CH', 'W', 'UW', 'M', 'G', 'T', 'NG', 'K', 'AA', 'N', 'Z', 'R', 'EH', 'SH', 'D', 'Y', 'IH', 'P', 'S'}\n",
      "All phonemes: {'', 'B', 'UH', 'OW', 'F', 'HH', 'TH', 'IY', 'ZH', 'L', 'CH', 'W', 'AW', 'EY', 'UW', 'M', 'AY', 'ER', 'JH', 'Q', 'G', 'OY', 'T', 'NG', 'DH', 'K', 'N', 'AA', 'AH', 'Z', 'EH', 'R', 'AO', 'AE', 'SH', 'OH', 'D', 'Y', 'V', 'IH', 'P', 'S'}\n"
     ]
    }
   ],
   "source": [
    "jaccard_similarity(phone_freq, fin_phone_freq)"
   ]
  },
  {
   "cell_type": "markdown",
   "id": "d49dfbcc",
   "metadata": {},
   "source": [
    "## Italian"
   ]
  },
  {
   "cell_type": "code",
   "execution_count": 27,
   "id": "a7926b50",
   "metadata": {},
   "outputs": [],
   "source": [
    "ita_df, ita_phone_freq = parse_wikipron('../ita_latn_broad.tsv')"
   ]
  },
  {
   "cell_type": "code",
   "execution_count": 28,
   "id": "42f535c0",
   "metadata": {},
   "outputs": [
    {
     "name": "stdout",
     "output_type": "stream",
     "text": [
      "Jaccard similarity: 0.651\n",
      "Shared phonemes: {'B', 'HH', 'F', 'TH', 'ZH', 'L', 'CH', 'W', 'UW', 'M', 'JH', 'G', 'T', 'NG', 'K', 'N', 'Z', 'EH', 'R', 'AO', 'AE', 'SH', 'D', 'Y', 'V', 'IH', 'P', 'S'}\n",
      "All phonemes: {'', 'B', 'UH', 'OW', 'F', 'HH', 'TH', 'IY', 'ZH', 'L', 'CH', 'W', 'AW', 'EY', 'UW', 'M', 'AY', 'ER', 'JH', 'G', 'OY', 'T', 'NG', 'DH', 'K', 'N', 'AA', 'DX', 'AH', 'Z', 'EH', 'R', 'AO', 'AE', 'SH', 'OH', 'AX', 'D', 'Y', 'V', 'IH', 'P', 'S'}\n"
     ]
    }
   ],
   "source": [
    "jaccard_similarity(phone_freq, ita_phone_freq)"
   ]
  },
  {
   "cell_type": "markdown",
   "id": "87f78003",
   "metadata": {},
   "source": [
    "## Spanish"
   ]
  },
  {
   "cell_type": "code",
   "execution_count": 30,
   "id": "c3650328",
   "metadata": {},
   "outputs": [],
   "source": [
    "spa_df, spa_phone_freq = parse_wikipron('../spa_latn_la_broad.tsv')"
   ]
  },
  {
   "cell_type": "code",
   "execution_count": 31,
   "id": "c20a559f",
   "metadata": {},
   "outputs": [
    {
     "name": "stdout",
     "output_type": "stream",
     "text": [
      "Jaccard similarity: 0.595\n",
      "Shared phonemes: {'B', 'HH', 'F', 'TH', 'L', 'CH', 'W', 'M', 'UW', 'G', 'T', 'NG', 'DH', 'K', 'N', 'Z', 'R', 'EH', 'AE', 'SH', 'D', 'Y', 'IH', 'P', 'S'}\n",
      "All phonemes: {'', 'B', 'UH', 'OW', 'F', 'HH', 'TH', 'IY', 'ZH', 'L', 'CH', 'W', 'AW', 'EY', 'UW', 'M', 'AY', 'ER', 'JH', 'G', 'OY', 'T', 'NG', 'DH', 'K', 'N', 'AA', 'DX', 'AH', 'Z', 'EH', 'R', 'AO', 'AE', 'SH', 'OH', 'D', 'Y', 'V', 'IH', 'P', 'S'}\n"
     ]
    }
   ],
   "source": [
    "jaccard_similarity(phone_freq, spa_phone_freq)"
   ]
  },
  {
   "cell_type": "markdown",
   "id": "a0c30a88",
   "metadata": {},
   "source": [
    "## Czech"
   ]
  },
  {
   "cell_type": "code",
   "execution_count": 32,
   "id": "32b0ebfa",
   "metadata": {},
   "outputs": [],
   "source": [
    "cze_df, cze_phone_freq = parse_wikipron('../cze_latn_narrow.tsv')"
   ]
  },
  {
   "cell_type": "code",
   "execution_count": 33,
   "id": "c7f4d4f2",
   "metadata": {},
   "outputs": [
    {
     "name": "stdout",
     "output_type": "stream",
     "text": [
      "Jaccard similarity: 0.587\n",
      "Shared phonemes: {'B', 'UH', 'F', 'ZH', 'L', 'CH', 'W', 'UW', 'M', 'JH', 'G', 'T', 'NG', 'K', 'N', 'Z', 'EH', 'R', 'AO', 'SH', 'AE', 'D', 'Y', 'V', 'IH', 'P', 'S'}\n",
      "All phonemes: {'', 'B', 'UH', 'OW', 'F', 'HH', 'TH', 'IY', 'ZH', 'L', 'CH', 'W', 'AW', 'EY', 'UW', 'M', 'EM', 'AY', 'ER', 'JH', 'Q', 'G', 'OY', 'T', 'NG', 'DH', 'K', 'N', 'AA', 'EL', 'DX', 'AH', 'Z', 'EH', 'R', 'AO', 'AE', 'SH', 'OH', 'D', 'Y', 'V', 'IH', 'EN', 'P', 'S'}\n"
     ]
    }
   ],
   "source": [
    "jaccard_similarity(phone_freq, cze_phone_freq)"
   ]
  },
  {
   "cell_type": "markdown",
   "id": "27dd3d07",
   "metadata": {},
   "source": [
    "## French"
   ]
  },
  {
   "cell_type": "code",
   "execution_count": 36,
   "id": "cbd3dd31",
   "metadata": {},
   "outputs": [],
   "source": [
    "fre_df, fre_latn_broad = parse_wikipron('../fre_latn_broad.tsv')"
   ]
  },
  {
   "cell_type": "code",
   "execution_count": 37,
   "id": "e9e4c5e6",
   "metadata": {},
   "outputs": [
    {
     "name": "stdout",
     "output_type": "stream",
     "text": [
      "Jaccard similarity: 0.667\n",
      "Shared phonemes: {'B', 'UH', 'HH', 'F', 'ZH', 'L', 'CH', 'W', 'M', 'UW', 'JH', 'G', 'T', 'NG', 'K', 'AA', 'N', 'Z', 'AH', 'EH', 'R', 'AO', 'AE', 'SH', 'D', 'Y', 'V', 'IH', 'P', 'S'}\n",
      "All phonemes: {'', 'B', 'UH', 'OW', 'F', 'HH', 'TH', 'IY', 'ZH', 'L', 'CH', 'W', 'AW', 'EY', 'UW', 'M', 'AY', 'ER', 'JH', 'Q', 'G', 'OY', 'T', 'NG', 'DH', 'AXR', 'K', 'N', 'AA', 'DX', 'AH', 'Z', 'EH', 'R', 'AO', 'AE', 'SH', 'OH', 'AX', 'D', 'Y', 'V', 'IH', 'P', 'S'}\n"
     ]
    }
   ],
   "source": [
    "jaccard_similarity(phone_freq, fre_latn_broad)"
   ]
  },
  {
   "cell_type": "markdown",
   "id": "7b58af8c",
   "metadata": {},
   "source": [
    "## Croatian"
   ]
  },
  {
   "cell_type": "code",
   "execution_count": 38,
   "id": "484c24cd",
   "metadata": {},
   "outputs": [],
   "source": [
    "hbs_df, hbs_phone_freq = parse_wikipron('../hbs_latn_broad.tsv')"
   ]
  },
  {
   "cell_type": "code",
   "execution_count": 39,
   "id": "a46e48dd",
   "metadata": {},
   "outputs": [
    {
     "name": "stdout",
     "output_type": "stream",
     "text": [
      "Jaccard similarity: 0.636\n",
      "Shared phonemes: {'B', 'UH', 'HH', 'F', 'ZH', 'L', 'CH', 'UW', 'M', 'JH', 'G', 'T', 'NG', 'K', 'N', 'AA', 'Z', 'EH', 'R', 'AO', 'AE', 'SH', 'D', 'Y', 'V', 'IH', 'P', 'S'}\n",
      "All phonemes: {'', 'B', 'UH', 'OW', 'F', 'HH', 'TH', 'IY', 'ZH', 'L', 'CH', 'W', 'AW', 'EY', 'UW', 'M', 'AY', 'ER', 'JH', 'G', 'OY', 'T', 'NG', 'DH', 'K', 'N', 'AA', 'EL', 'AH', 'Z', 'EH', 'R', 'AO', 'AE', 'SH', 'OH', 'AX', 'D', 'Y', 'V', 'IH', 'EN', 'P', 'S'}\n"
     ]
    }
   ],
   "source": [
    "jaccard_similarity(phone_freq, hbs_phone_freq)"
   ]
  },
  {
   "cell_type": "markdown",
   "id": "9dc8ec12",
   "metadata": {},
   "source": [
    "# Creating dataframes"
   ]
  },
  {
   "cell_type": "code",
   "execution_count": 12,
   "id": "eb91b252",
   "metadata": {},
   "outputs": [],
   "source": [
    "cmudict_df = pd.DataFrame(cmudict.items(), columns = ['word', 'ARPAbet'])"
   ]
  },
  {
   "cell_type": "code",
   "execution_count": 13,
   "id": "d72f69be",
   "metadata": {},
   "outputs": [
    {
     "data": {
      "text/html": [
       "<div>\n",
       "<style scoped>\n",
       "    .dataframe tbody tr th:only-of-type {\n",
       "        vertical-align: middle;\n",
       "    }\n",
       "\n",
       "    .dataframe tbody tr th {\n",
       "        vertical-align: top;\n",
       "    }\n",
       "\n",
       "    .dataframe thead th {\n",
       "        text-align: right;\n",
       "    }\n",
       "</style>\n",
       "<table border=\"1\" class=\"dataframe\">\n",
       "  <thead>\n",
       "    <tr style=\"text-align: right;\">\n",
       "      <th></th>\n",
       "      <th>word</th>\n",
       "      <th>ARPAbet</th>\n",
       "    </tr>\n",
       "  </thead>\n",
       "  <tbody>\n",
       "    <tr>\n",
       "      <th>0</th>\n",
       "      <td>'bout</td>\n",
       "      <td>B AW T</td>\n",
       "    </tr>\n",
       "    <tr>\n",
       "      <th>1</th>\n",
       "      <td>'cause</td>\n",
       "      <td>K AH Z</td>\n",
       "    </tr>\n",
       "    <tr>\n",
       "      <th>2</th>\n",
       "      <td>'course</td>\n",
       "      <td>K AO R S</td>\n",
       "    </tr>\n",
       "    <tr>\n",
       "      <th>3</th>\n",
       "      <td>'cuse</td>\n",
       "      <td>K Y UW Z</td>\n",
       "    </tr>\n",
       "    <tr>\n",
       "      <th>4</th>\n",
       "      <td>'em</td>\n",
       "      <td>AH M</td>\n",
       "    </tr>\n",
       "  </tbody>\n",
       "</table>\n",
       "</div>"
      ],
      "text/plain": [
       "      word   ARPAbet\n",
       "0    'bout    B AW T\n",
       "1   'cause    K AH Z\n",
       "2  'course  K AO R S\n",
       "3    'cuse  K Y UW Z\n",
       "4      'em      AH M"
      ]
     },
     "execution_count": 13,
     "metadata": {},
     "output_type": "execute_result"
    }
   ],
   "source": [
    "cmudict_df.head()"
   ]
  },
  {
   "cell_type": "code",
   "execution_count": 14,
   "id": "1255d892",
   "metadata": {},
   "outputs": [],
   "source": [
    "cmudict_df.to_csv('../data/words_to_phones/cmudict_words2phones.csv', index = False)"
   ]
  },
  {
   "cell_type": "code",
   "execution_count": 15,
   "id": "057ced09",
   "metadata": {},
   "outputs": [],
   "source": [
    "ic_df.to_csv('../data/words_to_phones/icelandic_words2phones.csv', index = False)\n",
    "rom_df.to_csv('../data/words_to_phones/romanian_words2phones.csv', index = False)"
   ]
  },
  {
   "cell_type": "code",
   "execution_count": 21,
   "id": "21e61298",
   "metadata": {},
   "outputs": [],
   "source": [
    "rus_df.to_csv('../data/words_to_phones/russian_words2phones.csv', index = False)\n",
    "pol_df.to_csv('../data/words_to_phones/polish_words2phones.csv', index = False)"
   ]
  },
  {
   "cell_type": "code",
   "execution_count": 40,
   "id": "c01e2475",
   "metadata": {},
   "outputs": [],
   "source": [
    "dut_df.to_csv('../data/words_to_phones/dutch_words2phones.csv', index = False)\n",
    "fin_df.to_csv('../data/words_to_phones/finnish_words2phones.csv', index = False)\n",
    "ita_df.to_csv('../data/words_to_phones/italian_words2phones.csv', index = False)\n",
    "spa_df.to_csv('../data/words_to_phones/spanish_words2phones.csv', index = False)\n",
    "cze_df.to_csv('../data/words_to_phones/czech_words2phones.csv', index = False)\n",
    "fre_df.to_csv('../data/words_to_phones/french_words2phones.csv', index = False)\n",
    "hbs_df.to_csv('../data/words_to_phones/croatian_words2phones.csv', index = False)"
   ]
  }
 ],
 "metadata": {
  "kernelspec": {
   "display_name": "Python 3 (ipykernel)",
   "language": "python",
   "name": "python3"
  },
  "language_info": {
   "codemirror_mode": {
    "name": "ipython",
    "version": 3
   },
   "file_extension": ".py",
   "mimetype": "text/x-python",
   "name": "python",
   "nbconvert_exporter": "python",
   "pygments_lexer": "ipython3",
   "version": "3.9.7"
  }
 },
 "nbformat": 4,
 "nbformat_minor": 5
}
