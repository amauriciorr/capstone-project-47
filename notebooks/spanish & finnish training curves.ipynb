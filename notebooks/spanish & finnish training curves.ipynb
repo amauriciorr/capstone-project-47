{
 "cells": [
  {
   "cell_type": "code",
   "execution_count": 1,
   "metadata": {},
   "outputs": [],
   "source": [
    "import pandas as pd\n",
    "import seaborn as sn\n",
    "import matplotlib.pyplot as plt"
   ]
  },
  {
   "cell_type": "code",
   "execution_count": 2,
   "metadata": {},
   "outputs": [],
   "source": [
    "base_dir = '../data/training_curves/base-training/'\n",
    "downsample_dir = '../data/training_curves/downsampled-training/'"
   ]
  },
  {
   "cell_type": "code",
   "execution_count": 3,
   "metadata": {},
   "outputs": [],
   "source": [
    "def plot_curves(df_dict, title, palette=None, fig_size=(30,15), save_dir=None):\n",
    "    for df in df_dict.values():\n",
    "        df.columns = ['wall_time', 'step', 'accuracy']\n",
    "    if palette:\n",
    "        sn.set_palette(palette)\n",
    "    fig = plt.figure(figsize=fig_size)\n",
    "    for label, df in df_dict.items():\n",
    "        sn.lineplot(data=df, x='step', y='accuracy', label=label)\n",
    "\n",
    "    plt.legend(fontsize=13)\n",
    "    plt.title(title, fontsize=18)\n",
    "    plt.xlabel('Step', fontsize=13)\n",
    "    plt.ylabel('Accuracy', fontsize=13)\n",
    "    if save_dir:\n",
    "        save_file = save_dir + title + '.png'\n",
    "        fig.savefig(save_file, dpi = fig.dpi, facecolor=(1,1,1,1))"
   ]
  },
  {
   "cell_type": "code",
   "execution_count": 4,
   "metadata": {},
   "outputs": [],
   "source": [
    "spanish_base = pd.read_csv(base_dir + 'spanish-base-train_accuracy.csv')\n",
    "croatian_to_spanish = pd.read_csv(base_dir + 'croatian-to-spanish-train_accuracy.csv')\n",
    "dutch_to_spanish = pd.read_csv(base_dir + 'dutch_2spanish.csv')\n",
    "english_to_spanish = pd.read_csv(base_dir + 'english-to-spanish-train_accuracy.csv')\n",
    "finnish_to_spanish = pd.read_csv(base_dir + 'finnish-to-spanish-train_accuracy.csv')\n",
    "italian_to_spanish = pd.read_csv(base_dir + 'italian_2spanish.csv')\n",
    "\n",
    "# to avoid lengthy variable names, below correspond to \n",
    "# instances of having first trained on spanish. transfer learned to another language\n",
    "# then returned to spanish for observing accelerated learning.\n",
    "croatian_spanish_acc = pd.read_csv(base_dir + 'spanish_croatian2spanish-accelerated_learning.csv')\n",
    "italian_spanish_acc = pd.read_csv(base_dir + 'spanish_italian2spanish-accelerated_learning.csv')\n",
    "finnish_spanish_acc = pd.read_csv(base_dir + 'spanish_finnish2spanish-accelerated_learning.csv')\n",
    "english_spanish_acc = pd.read_csv(base_dir + 'spanish_english2spanish-accelerated_learning.csv')\n",
    "dutch_spanish_acc = pd.read_csv(base_dir + 'spanish_dutch2spanish-accelerated_learning.csv')\n",
    "\n",
    "spanish_dfs = [spanish_base, croatian_to_spanish, dutch_to_spanish, english_to_spanish,\n",
    "               finnish_to_spanish, italian_to_spanish, croatian_spanish_acc, italian_spanish_acc,\n",
    "               finnish_spanish_acc, english_spanish_acc, dutch_spanish_acc]"
   ]
  },
  {
   "cell_type": "code",
   "execution_count": 5,
   "metadata": {},
   "outputs": [],
   "source": [
    "labels = ['ES', 'HR-ES', 'NL-ES', 'EN-ES', 'FI-ES', 'IT-ES',\n",
    "          'ES-HR-ES', 'ES-IT-ES', 'ES-FI-ES', 'ES-EN-ES', 'ES-NL-ES']"
   ]
  },
  {
   "cell_type": "code",
   "execution_count": 6,
   "metadata": {},
   "outputs": [],
   "source": [
    "spanish_dict = dict(zip(labels, spanish_dfs))\n",
    "spanish_transfer_learning = dict(zip(labels[:6], spanish_dfs[:6]))\n",
    "spanish_accelerated_learning = dict(zip([labels[0]] + labels[6:], [spanish_dfs[0]] + spanish_dfs[6:]))"
   ]
  },
  {
   "cell_type": "markdown",
   "metadata": {},
   "source": [
    "# Spanish full-data training"
   ]
  },
  {
   "cell_type": "code",
   "execution_count": null,
   "metadata": {},
   "outputs": [],
   "source": [
    "plot_curves(spanish_dict, 'Spanish training curves', palette='ocean_r', fig_size=(30, 13), save_dir='../graphs/')"
   ]
  },
  {
   "cell_type": "code",
   "execution_count": null,
   "metadata": {},
   "outputs": [],
   "source": [
    "plot_curves(spanish_transfer_learning, 'Spanish transfer learning curves', palette='seismic_r', save_dir='../graphs/')"
   ]
  },
  {
   "cell_type": "code",
   "execution_count": null,
   "metadata": {},
   "outputs": [],
   "source": [
    "plot_curves(spanish_accelerated_learning, 'Spanish accelerated learning curves', palette='inferno_r', save_dir='../graphs/')"
   ]
  },
  {
   "cell_type": "markdown",
   "metadata": {},
   "source": [
    "# Spanish downsampled training"
   ]
  },
  {
   "cell_type": "code",
   "execution_count": null,
   "metadata": {},
   "outputs": [],
   "source": [
    "spanish_ds = pd.read_csv(downsample_dir + 'spanish-downsample-training.csv')\n",
    "croatian_to_spanish_ds = pd.read_csv(downsample_dir + 'croatian-to-spanish-downsample-train.csv')\n",
    "dutch_to_spanish_ds = pd.read_csv(downsample_dir + 'dutch_spanish_step.csv')\n",
    "english_to_spanish_ds = pd.read_csv(downsample_dir + 'english-to-spanish-downsample-train.csv')\n",
    "finnish_to_spanish_ds = pd.read_csv(downsample_dir + 'finnish-to-spanish-downsample-train.csv')\n",
    "italian_to_spanish_ds = pd.read_csv(downsample_dir + 'italian_spanish_step.csv')\n",
    "\n",
    "# to avoid lengthy variable names, below correspond to \n",
    "# instances of having first trained on spanish. transfer learned to another language\n",
    "# then returned to spanish for observing accelerated learning.\n",
    "croatian_spanish_acc_ds = pd.read_csv(downsample_dir + 'spanish_croatian2spanish-downsample-accelerated_learning.csv')\n",
    "italian_spanish_acc_ds = pd.read_csv(downsample_dir + 'spanish_italian2spanish-downsample-accelerated_learning.csv')\n",
    "finnish_spanish_acc_ds = pd.read_csv(downsample_dir + 'spanish_finnish2spanish-downsample-accelerated_learning.csv')\n",
    "english_spanish_acc_ds = pd.read_csv(downsample_dir + 'spanish_english2spanish-downsample-accelerated_learning.csv')\n",
    "dutch_spanish_acc_ds = pd.read_csv(downsample_dir + 'spanish_dutch2spanish-downsample-accelerated_learning.csv')\n",
    "\n",
    "spanish_dfs_ds = [spanish_ds, croatian_to_spanish_ds, dutch_to_spanish_ds, english_to_spanish_ds,\n",
    "               finnish_to_spanish_ds, italian_to_spanish_ds, croatian_spanish_acc_ds, italian_spanish_acc_ds,\n",
    "               finnish_spanish_acc_ds, english_spanish_acc_ds, dutch_spanish_acc_ds]"
   ]
  },
  {
   "cell_type": "code",
   "execution_count": null,
   "metadata": {},
   "outputs": [],
   "source": [
    "spanish_dict_ds = dict(zip(labels, spanish_dfs_ds))\n",
    "spanish_transfer_learning_ds = dict(zip(labels[:6], spanish_dfs_ds[:6]))\n",
    "spanish_accelerated_learning_ds = dict(zip([labels[0]] + labels[6:], [spanish_dfs_ds[0]] + spanish_dfs_ds[6:]))"
   ]
  },
  {
   "cell_type": "code",
   "execution_count": null,
   "metadata": {},
   "outputs": [],
   "source": [
    "plot_curves(spanish_dict_ds, 'Spanish downsampled training curves', palette='ocean_r', fig_size=(30, 13), save_dir='../graphs/')"
   ]
  },
  {
   "cell_type": "code",
   "execution_count": null,
   "metadata": {},
   "outputs": [],
   "source": [
    "plot_curves(spanish_transfer_learning_ds, 'Spanish downsampled transfer learning curves', palette='seismic_r', save_dir='../graphs/')"
   ]
  },
  {
   "cell_type": "code",
   "execution_count": null,
   "metadata": {},
   "outputs": [],
   "source": [
    "plot_curves(spanish_accelerated_learning_ds, 'Spanish downsampled accelerated learning curves', palette='inferno_r', save_dir='../graphs/')"
   ]
  },
  {
   "cell_type": "markdown",
   "metadata": {},
   "source": [
    "# Finnish full-data training"
   ]
  },
  {
   "cell_type": "code",
   "execution_count": null,
   "metadata": {},
   "outputs": [],
   "source": [
    "finnish_base = pd.read_csv(base_dir + 'finnish-base-train_accuracy.csv')\n",
    "croatian_to_finnish = pd.read_csv(base_dir + 'croatian-to-finnish-train_accuracy.csv')\n",
    "dutch_to_finnish = pd.read_csv(base_dir + 'dutch_2finnish.csv')\n",
    "english_to_finnish = pd.read_csv(base_dir + 'english-to-finnish-train_accuracy.csv')\n",
    "spanish_to_finnish = pd.read_csv(base_dir + 'spanish-to-finnish-train_accuracy.csv')\n",
    "italian_to_finnish = pd.read_csv(base_dir + 'italian_2finnish.csv')\n",
    "\n",
    "# to avoid lengthy variable names, below correspond to \n",
    "# instances of having first trained on spanish. transfer learned to another language\n",
    "# then returned to spanish for observing accelerated learning.\n",
    "croatian_finnish_acc = pd.read_csv(base_dir + 'finnish_croatian2finnish-accelerated_learning.csv')\n",
    "italian_finnish_acc = pd.read_csv(base_dir + 'finnish_italian2finnish-accelerated_learning.csv')\n",
    "spanish_finnish_acc = pd.read_csv(base_dir + 'finnish_spanish2finnish-accelerated_learning.csv')\n",
    "english_finnish_acc = pd.read_csv(base_dir + 'finnish_english2finnish-accelerated_learning.csv')\n",
    "dutch_finnish_acc = pd.read_csv(base_dir + 'finnish_dutch2finnish-accelerated_learning.csv')\n",
    "\n",
    "finnish_dfs = [finnish_base, croatian_to_finnish, dutch_to_finnish, english_to_finnish,\n",
    "               spanish_to_finnish, italian_to_finnish, croatian_finnish_acc, italian_finnish_acc,\n",
    "               spanish_finnish_acc, english_finnish_acc, dutch_finnish_acc]"
   ]
  },
  {
   "cell_type": "code",
   "execution_count": null,
   "metadata": {},
   "outputs": [],
   "source": [
    "labels = ['FI', 'HR-FI', 'NL-FI', 'EN-FI', 'ES-FI', 'IT-FI',\n",
    "          'FI-HR-FI', 'FI-IT-FI', 'FI-ES-FI', 'FI-EN-FI', 'FI-NL-FI']"
   ]
  },
  {
   "cell_type": "code",
   "execution_count": null,
   "metadata": {},
   "outputs": [],
   "source": [
    "finnish_dict = dict(zip(labels, finnish_dfs))\n",
    "finnish_transfer_learning = dict(zip(labels[:6], finnish_dfs[:6]))\n",
    "finnish_accelerated_learning = dict(zip([labels[0]] + labels[6:], [finnish_dfs[0]] + finnish_dfs[6:]))"
   ]
  },
  {
   "cell_type": "code",
   "execution_count": null,
   "metadata": {},
   "outputs": [],
   "source": [
    "plot_curves(finnish_dict, 'Finnish training curves', palette='ocean_r', fig_size=(30, 13), save_dir='../graphs/')"
   ]
  },
  {
   "cell_type": "code",
   "execution_count": null,
   "metadata": {},
   "outputs": [],
   "source": [
    "plot_curves(finnish_transfer_learning, 'Finnish transfer learning curves', palette='seismic_r', save_dir='../graphs/')"
   ]
  },
  {
   "cell_type": "code",
   "execution_count": null,
   "metadata": {},
   "outputs": [],
   "source": [
    "plot_curves(finnish_accelerated_learning, 'Finnish accelerated learning curves', palette='inferno_r', save_dir='../graphs')"
   ]
  },
  {
   "cell_type": "code",
   "execution_count": null,
   "metadata": {},
   "outputs": [],
   "source": [
    "finnish_ds = pd.read_csv(downsample_dir + 'finnish-downsample-training.csv')\n",
    "croatian_to_finnish_ds = pd.read_csv(downsample_dir + 'croatian-to-finnish-downsample-train.csv')\n",
    "dutch_to_finnish_ds = pd.read_csv(downsample_dir + 'dutch_finnish_step.csv')\n",
    "english_to_finnish_ds = pd.read_csv(downsample_dir + 'english-to-finnish-downsample-train.csv')\n",
    "spanish_to_finnish_ds = pd.read_csv(downsample_dir + 'spanish-to-finnish-downsample-train.csv')\n",
    "italian_to_finnish_ds = pd.read_csv(downsample_dir + 'italian_finnish_Step.csv')\n",
    "\n",
    "# to avoid lengthy variable names, below correspond to \n",
    "# instances of having first trained on spanish. transfer learned to another language\n",
    "# then returned to spanish for observing accelerated learning.\n",
    "croatian_finnish_acc_ds = pd.read_csv(downsample_dir + 'finnish_croatian2finnish-downsample-accelerated_learning.csv')\n",
    "italian_finnish_acc_ds = pd.read_csv(downsample_dir + 'finnish_italian2finnish-downsample-accelerated_learning.csv')\n",
    "spanish_finnish_acc_ds = pd.read_csv(downsample_dir + 'finnish_spanish2finnish-downsample-accelerated_learning.csv')\n",
    "english_finnish_acc_ds = pd.read_csv(downsample_dir + 'finnish_english2finnish-downsample-accelerated_learning.csv')\n",
    "dutch_finnish_acc_ds = pd.read_csv(downsample_dir + 'finnish_dutch2finnish-downsample-accelerated_learning.csv')\n",
    "\n",
    "finnish_dfs_ds = [finnish_ds, croatian_to_finnish_ds, dutch_to_finnish_ds, english_to_finnish_ds,\n",
    "               spanish_to_finnish_ds, italian_to_finnish_ds, croatian_finnish_acc_ds, italian_finnish_acc_ds,\n",
    "               spanish_finnish_acc_ds, english_finnish_acc_ds, dutch_finnish_acc_ds]"
   ]
  },
  {
   "cell_type": "code",
   "execution_count": null,
   "metadata": {},
   "outputs": [],
   "source": [
    "finnish_dict_ds = dict(zip(labels, finnish_dfs_ds))\n",
    "finnish_transfer_learning_ds = dict(zip(labels[:6], finnish_dfs_ds[:6]))\n",
    "finnish_accelerated_learning_ds = dict(zip([labels[0]] + labels[6:], [finnish_dfs[0]] + finnish_dfs_ds[6:]))"
   ]
  },
  {
   "cell_type": "code",
   "execution_count": null,
   "metadata": {},
   "outputs": [],
   "source": [
    "plot_curves(finnish_dict_ds, 'Finnish downsampled training curves', palette='ocean_r', fig_size=(30, 13), save_dir='../graphs/')"
   ]
  },
  {
   "cell_type": "code",
   "execution_count": null,
   "metadata": {},
   "outputs": [],
   "source": [
    "plot_curves(finnish_transfer_learning_ds, 'Finnish downsampled transfer learning curves', palette='seismic_r', save_dir='../graphs/')"
   ]
  },
  {
   "cell_type": "code",
   "execution_count": null,
   "metadata": {},
   "outputs": [],
   "source": [
    "plot_curves(finnish_accelerated_learning_ds, 'Finnish downsampled accelerated learning curves', palette='inferno_r', save_dir='../graphs')"
   ]
  },
  {
   "cell_type": "code",
   "execution_count": null,
   "metadata": {},
   "outputs": [],
   "source": []
  }
 ],
 "metadata": {
  "kernelspec": {
   "display_name": "Python 3",
   "language": "python",
   "name": "python3"
  },
  "language_info": {
   "codemirror_mode": {
    "name": "ipython",
    "version": 3
   },
   "file_extension": ".py",
   "mimetype": "text/x-python",
   "name": "python",
   "nbconvert_exporter": "python",
   "pygments_lexer": "ipython3",
   "version": "3.6.5"
  }
 },
 "nbformat": 4,
 "nbformat_minor": 2
}
