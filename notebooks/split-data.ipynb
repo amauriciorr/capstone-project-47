{
 "cells": [
  {
   "cell_type": "code",
   "execution_count": 1,
   "metadata": {},
   "outputs": [],
   "source": [
    "import os\n",
    "import re\n",
    "import pandas as pd\n",
    "import numpy as np"
   ]
  },
  {
   "cell_type": "code",
   "execution_count": 2,
   "metadata": {},
   "outputs": [],
   "source": [
    "path = '../data/model_ready/csv/'\n",
    "csv_files = os.listdir(path)\n",
    "csv_files = [file for file in csv_files if re.search(r'csv', file)]"
   ]
  },
  {
   "cell_type": "code",
   "execution_count": 3,
   "metadata": {},
   "outputs": [],
   "source": [
    "def get_splits(df, seed=None):\n",
    "    \"\"\"\n",
    "    helper function for randomly shuffling and splitting data.\n",
    "    :param df: DataFrame object with raw data\n",
    "    :param seed: int for determining random seed to use.\n",
    "    \"\"\"\n",
    "    np.random.seed(seed)\n",
    "    shuffled_idx = np.random.permutation(df.index)\n",
    "    # determine indices for partitioning df\n",
    "    rows = len(df.index)\n",
    "    # 0.8 corresponds to 80% allocated for training set\n",
    "    train_idx = int(0.8 * rows)\n",
    "    # 0.1 corresponds to 10% allocated for validation. \n",
    "    # remainder is for test set\n",
    "    validate_idx = int(0.1 * rows) + train_idx\n",
    "    train = df.loc[shuffled_idx[:train_idx]]\n",
    "    validate = df.loc[shuffled_idx[train_idx:validate_idx]]\n",
    "    test = df.loc[shuffled_idx[validate_idx:]]\n",
    "    return train, validate, test"
   ]
  },
  {
   "cell_type": "code",
   "execution_count": 4,
   "metadata": {},
   "outputs": [
    {
     "name": "stdout",
     "output_type": "stream",
     "text": [
      "Creating splits for: processed_dutch.csv\n",
      "train set size: (206609, 3)\n",
      "validation set size: (25826, 3)\n",
      "test set size: (25827, 3)\n",
      "------------------------------------------------------------\n",
      "\n",
      "\n",
      "Creating splits for: processed_spanish.csv\n",
      "train set size: (372970, 3)\n",
      "validation set size: (46621, 3)\n",
      "test set size: (46622, 3)\n",
      "------------------------------------------------------------\n",
      "\n",
      "\n",
      "Creating splits for: processed_italian.csv\n",
      "train set size: (107843, 3)\n",
      "validation set size: (13480, 3)\n",
      "test set size: (13481, 3)\n",
      "------------------------------------------------------------\n",
      "\n",
      "\n",
      "Creating splits for: processed_icelandic.csv\n",
      "train set size: (56051, 3)\n",
      "validation set size: (7006, 3)\n",
      "test set size: (7007, 3)\n",
      "------------------------------------------------------------\n",
      "\n",
      "\n",
      "Creating splits for: processed_polish.csv\n",
      "train set size: (416164, 3)\n",
      "validation set size: (52020, 3)\n",
      "test set size: (52022, 3)\n",
      "------------------------------------------------------------\n",
      "\n",
      "\n",
      "Creating splits for: processed_croatian.csv\n",
      "train set size: (140407, 3)\n",
      "validation set size: (17550, 3)\n",
      "test set size: (17552, 3)\n",
      "------------------------------------------------------------\n",
      "\n",
      "\n",
      "Creating splits for: processed_english.csv\n",
      "train set size: (798366, 3)\n",
      "validation set size: (99795, 3)\n",
      "test set size: (99797, 3)\n",
      "------------------------------------------------------------\n",
      "\n",
      "\n",
      "Creating splits for: processed_romanian.csv\n",
      "train set size: (42740, 3)\n",
      "validation set size: (5342, 3)\n",
      "test set size: (5343, 3)\n",
      "------------------------------------------------------------\n",
      "\n",
      "\n",
      "Creating splits for: processed_czech.csv\n",
      "train set size: (162244, 3)\n",
      "validation set size: (20280, 3)\n",
      "test set size: (20282, 3)\n",
      "------------------------------------------------------------\n",
      "\n",
      "\n",
      "Creating splits for: processed_finnish.csv\n",
      "train set size: (562732, 3)\n",
      "validation set size: (70341, 3)\n",
      "test set size: (70343, 3)\n",
      "------------------------------------------------------------\n",
      "\n",
      "\n"
     ]
    }
   ],
   "source": [
    "for file in csv_files:\n",
    "    full_df = pd.read_csv(path+file)\n",
    "    train, val, test = get_splits(full_df, 100)\n",
    "    print('Creating splits for: {}'.format(file))\n",
    "    print('train set size: {}'.format(train.shape))\n",
    "    print('validation set size: {}'.format(val.shape))\n",
    "    print('test set size: {}'.format(test.shape))\n",
    "    print('-' * 60)\n",
    "    print('\\n')\n",
    "    \n",
    "    train.to_csv(path + file[:-4] + '_train.csv', index=False)\n",
    "    val.to_csv(path + file[:-4] + '_val.csv', index=False)\n",
    "    test.to_csv(path + file[:-4] + '_test.csv', index=False)"
   ]
  }
 ],
 "metadata": {
  "kernelspec": {
   "display_name": "Python 3",
   "language": "python",
   "name": "python3"
  },
  "language_info": {
   "codemirror_mode": {
    "name": "ipython",
    "version": 3
   },
   "file_extension": ".py",
   "mimetype": "text/x-python",
   "name": "python",
   "nbconvert_exporter": "python",
   "pygments_lexer": "ipython3",
   "version": "3.6.5"
  }
 },
 "nbformat": 4,
 "nbformat_minor": 2
}
