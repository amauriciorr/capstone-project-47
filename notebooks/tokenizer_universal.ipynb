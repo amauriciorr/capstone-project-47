{
 "cells": [
  {
   "cell_type": "code",
   "execution_count": 1,
   "metadata": {},
   "outputs": [],
   "source": [
    "import pandas as pd\n",
    "import numpy as np\n",
    "from string import digits\n",
    "from tokenizers import Tokenizer\n",
    "from tokenizers.models import WordLevel, BPE\n",
    "from tokenizers import normalizers\n",
    "from tokenizers.normalizers import NFD, StripAccents\n",
    "from tokenizers.trainers import WordLevelTrainer, BpeTrainer\n",
    "from tokenizers.pre_tokenizers import Whitespace\n",
    "import re"
   ]
  },
  {
   "cell_type": "code",
   "execution_count": 2,
   "metadata": {},
   "outputs": [
    {
     "data": {
      "text/html": [
       "<div>\n",
       "<style scoped>\n",
       "    .dataframe tbody tr th:only-of-type {\n",
       "        vertical-align: middle;\n",
       "    }\n",
       "\n",
       "    .dataframe tbody tr th {\n",
       "        vertical-align: top;\n",
       "    }\n",
       "\n",
       "    .dataframe thead th {\n",
       "        text-align: right;\n",
       "    }\n",
       "</style>\n",
       "<table border=\"1\" class=\"dataframe\">\n",
       "  <thead>\n",
       "    <tr style=\"text-align: right;\">\n",
       "      <th></th>\n",
       "      <th>word</th>\n",
       "      <th>phonemes</th>\n",
       "      <th>label</th>\n",
       "    </tr>\n",
       "  </thead>\n",
       "  <tbody>\n",
       "    <tr>\n",
       "      <th>0</th>\n",
       "      <td>bout</td>\n",
       "      <td>start</td>\n",
       "      <td>B</td>\n",
       "    </tr>\n",
       "    <tr>\n",
       "      <th>1</th>\n",
       "      <td>bout</td>\n",
       "      <td>start B</td>\n",
       "      <td>AW</td>\n",
       "    </tr>\n",
       "    <tr>\n",
       "      <th>2</th>\n",
       "      <td>bout</td>\n",
       "      <td>start B AW</td>\n",
       "      <td>T</td>\n",
       "    </tr>\n",
       "    <tr>\n",
       "      <th>3</th>\n",
       "      <td>bout</td>\n",
       "      <td>start B AW T</td>\n",
       "      <td>stop</td>\n",
       "    </tr>\n",
       "    <tr>\n",
       "      <th>4</th>\n",
       "      <td>cause</td>\n",
       "      <td>start</td>\n",
       "      <td>K</td>\n",
       "    </tr>\n",
       "  </tbody>\n",
       "</table>\n",
       "</div>"
      ],
      "text/plain": [
       "    word      phonemes label\n",
       "0   bout         start     B\n",
       "1   bout       start B    AW\n",
       "2   bout    start B AW     T\n",
       "3   bout  start B AW T  stop\n",
       "4  cause         start     K"
      ]
     },
     "execution_count": 2,
     "metadata": {},
     "output_type": "execute_result"
    }
   ],
   "source": [
    "languages = ['english', 'croatian', 'czech', 'dutch', 'finnish', 'french', 'icelandic', 'italian', \n",
    "            'polish', 'romanian', 'spanish']\n",
    "\n",
    "df = pd.DataFrame(columns = ['word', 'phonemes', 'label'])\n",
    "for language in languages:\n",
    "    path = '../data/model_ready/csv/'\n",
    "    language = language\n",
    "    file_name = path+'processed_'+language+'.csv'\n",
    "    token_data_table = pd.read_csv(file_name)\n",
    "    df = pd.concat([df, token_data_table])\n",
    "df.head()"
   ]
  },
  {
   "cell_type": "code",
   "execution_count": 3,
   "metadata": {},
   "outputs": [],
   "source": [
    "# below adds spacing to words\n",
    "df['word'] = df['word'].map(lambda row: ' '.join(list(row)))\n",
    "\n",
    "### Commenting out below, filters should already be implemented in the csv files\n",
    "# additional minor filtering due to the fact that unwanted words still persist.\n",
    "# df['phonemes'] = df['phonemes'].map(lambda row: re.sub(r'\\d', '', row))\n",
    "# df['label'] = df['label'].map(lambda row: re.sub(r'\\d', '', row))\n",
    "# df = df[~df['phonemes'].str.contains('#')]\n",
    "# df = df[~df['word'].str.contains('.')]\n",
    "# df = df[~df['word'].str.contains('(')]"
   ]
  },
  {
   "cell_type": "markdown",
   "metadata": {},
   "source": [
    "#### Make sure words and phononmes have been filtered and editied"
   ]
  },
  {
   "cell_type": "code",
   "execution_count": 25,
   "metadata": {},
   "outputs": [
    {
     "data": {
      "text/plain": [
       "3"
      ]
     },
     "execution_count": 25,
     "metadata": {},
     "output_type": "execute_result"
    }
   ],
   "source": [
    "df[df['phonemes'].str.contains('#')].shape[0] + df[df['word'].str.contains('\\.')].shape[0] + \\\n",
    "    df[df['label'].str.contains('#')].shape[0] + \\\n",
    "    + df[df['phonemes'].str.contains('\\)')].shape[0] + df[df['phonemes'].str.contains('-')].shape[0] + \\\n",
    "    df[df['word'].str.contains('’')].shape[0]"
   ]
  },
  {
   "cell_type": "code",
   "execution_count": 39,
   "metadata": {},
   "outputs": [
    {
     "data": {
      "text/html": [
       "<div>\n",
       "<style scoped>\n",
       "    .dataframe tbody tr th:only-of-type {\n",
       "        vertical-align: middle;\n",
       "    }\n",
       "\n",
       "    .dataframe tbody tr th {\n",
       "        vertical-align: top;\n",
       "    }\n",
       "\n",
       "    .dataframe thead th {\n",
       "        text-align: right;\n",
       "    }\n",
       "</style>\n",
       "<table border=\"1\" class=\"dataframe\">\n",
       "  <thead>\n",
       "    <tr style=\"text-align: right;\">\n",
       "      <th></th>\n",
       "      <th>word</th>\n",
       "      <th>phonemes</th>\n",
       "      <th>label</th>\n",
       "    </tr>\n",
       "  </thead>\n",
       "  <tbody>\n",
       "    <tr>\n",
       "      <th>99</th>\n",
       "      <td>a a l e n</td>\n",
       "      <td>start AE L AH N</td>\n",
       "      <td>#</td>\n",
       "    </tr>\n",
       "    <tr>\n",
       "      <th>115</th>\n",
       "      <td>a a l t o</td>\n",
       "      <td>start AA L T OW</td>\n",
       "      <td>#</td>\n",
       "    </tr>\n",
       "    <tr>\n",
       "      <th>197845</th>\n",
       "      <td>d a n g l a r s</td>\n",
       "      <td>start D AH NG L AA R Z</td>\n",
       "      <td>#</td>\n",
       "    </tr>\n",
       "  </tbody>\n",
       "</table>\n",
       "</div>"
      ],
      "text/plain": [
       "                   word                phonemes label\n",
       "99            a a l e n         start AE L AH N     #\n",
       "115           a a l t o         start AA L T OW     #\n",
       "197845  d a n g l a r s  start D AH NG L AA R Z     #"
      ]
     },
     "execution_count": 39,
     "metadata": {},
     "output_type": "execute_result"
    }
   ],
   "source": [
    "df[df['label'].str.contains('#')]"
   ]
  },
  {
   "cell_type": "code",
   "execution_count": 46,
   "metadata": {},
   "outputs": [],
   "source": [
    "df.iloc[99,2] = 'stop'\n",
    "df.iloc[115,2] = 'stop'\n",
    "df.iloc[197845, 2] = 'stop'"
   ]
  },
  {
   "cell_type": "code",
   "execution_count": 47,
   "metadata": {},
   "outputs": [
    {
     "data": {
      "text/html": [
       "<div>\n",
       "<style scoped>\n",
       "    .dataframe tbody tr th:only-of-type {\n",
       "        vertical-align: middle;\n",
       "    }\n",
       "\n",
       "    .dataframe tbody tr th {\n",
       "        vertical-align: top;\n",
       "    }\n",
       "\n",
       "    .dataframe thead th {\n",
       "        text-align: right;\n",
       "    }\n",
       "</style>\n",
       "<table border=\"1\" class=\"dataframe\">\n",
       "  <thead>\n",
       "    <tr style=\"text-align: right;\">\n",
       "      <th></th>\n",
       "      <th>word</th>\n",
       "      <th>phonemes</th>\n",
       "      <th>label</th>\n",
       "    </tr>\n",
       "  </thead>\n",
       "  <tbody>\n",
       "  </tbody>\n",
       "</table>\n",
       "</div>"
      ],
      "text/plain": [
       "Empty DataFrame\n",
       "Columns: [word, phonemes, label]\n",
       "Index: []"
      ]
     },
     "execution_count": 47,
     "metadata": {},
     "output_type": "execute_result"
    }
   ],
   "source": [
    "df[df['label'].str.contains('#')]"
   ]
  },
  {
   "cell_type": "code",
   "execution_count": 48,
   "metadata": {},
   "outputs": [
    {
     "data": {
      "text/plain": [
       "0"
      ]
     },
     "execution_count": 48,
     "metadata": {},
     "output_type": "execute_result"
    }
   ],
   "source": [
    "df[df['phonemes'].str.contains('#')].shape[0] + df[df['word'].str.contains('\\.')].shape[0] + \\\n",
    "    df[df['label'].str.contains('#')].shape[0] + \\\n",
    "    + df[df['phonemes'].str.contains('\\)')].shape[0] + df[df['phonemes'].str.contains('-')].shape[0] + \\\n",
    "    df[df['word'].str.contains('’')].shape[0]"
   ]
  },
  {
   "cell_type": "code",
   "execution_count": 49,
   "metadata": {},
   "outputs": [],
   "source": [
    "words = list(df['word'].values)\n",
    "phonemes = list(df['phonemes'].values)\n",
    "labels = list(df['label'].values)\n",
    "phonemes = phonemes + labels"
   ]
  },
  {
   "cell_type": "code",
   "execution_count": 50,
   "metadata": {},
   "outputs": [],
   "source": [
    "#Initialize tokenizers\n",
    "word_tokenizer = Tokenizer(WordLevel(unk_token='UNK'))\n",
    "phoneme_tokenizer = Tokenizer(WordLevel(unk_token='UNK'))"
   ]
  },
  {
   "cell_type": "code",
   "execution_count": 51,
   "metadata": {},
   "outputs": [],
   "source": [
    "#Initialize trainers\n",
    "word_trainer = WordLevelTrainer(special_tokens=['PAD', 'UNK'])\n",
    "phone_trainer = WordLevelTrainer(special_tokens=['PAD', 'UNK'])"
   ]
  },
  {
   "cell_type": "code",
   "execution_count": 52,
   "metadata": {},
   "outputs": [],
   "source": [
    "#Remove Whitespace\n",
    "word_tokenizer.pre_tokenizer = Whitespace()\n",
    "phoneme_tokenizer.pre_tokenizer = Whitespace()"
   ]
  },
  {
   "cell_type": "code",
   "execution_count": 53,
   "metadata": {},
   "outputs": [],
   "source": [
    "#Enable padding\n",
    "word_tokenizer.enable_padding(direction='right', pad_id=0, pad_type_id=0, \n",
    "               pad_token='PAD', length=None, pad_to_multiple_of=None)\n",
    "phoneme_tokenizer.enable_padding(direction='right', pad_id=0, pad_type_id=0, \n",
    "               pad_token='PAD', length=None, pad_to_multiple_of=None)"
   ]
  },
  {
   "cell_type": "code",
   "execution_count": 54,
   "metadata": {},
   "outputs": [],
   "source": [
    "# Train Tokenizers\n",
    "word_tokenizer.train_from_iterator(words, trainer=word_trainer)\n",
    "phoneme_tokenizer.train_from_iterator(phonemes, trainer=phone_trainer)"
   ]
  },
  {
   "cell_type": "code",
   "execution_count": 43,
   "metadata": {},
   "outputs": [],
   "source": [
    "# Baseline Test (make sure it matches english only)\n",
    "word_test = word_tokenizer.encode(words[203])\n",
    "phoneme_test = phoneme_tokenizer.encode(phonemes[48])"
   ]
  },
  {
   "cell_type": "code",
   "execution_count": 44,
   "metadata": {},
   "outputs": [
    {
     "data": {
      "text/plain": [
       "[2, 2, 7, 3, 5]"
      ]
     },
     "execution_count": 44,
     "metadata": {},
     "output_type": "execute_result"
    }
   ],
   "source": [
    "word_test.ids"
   ]
  },
  {
   "cell_type": "code",
   "execution_count": 45,
   "metadata": {},
   "outputs": [
    {
     "data": {
      "text/plain": [
       "['a', 'a', 's', 'e', 'n']"
      ]
     },
     "execution_count": 45,
     "metadata": {},
     "output_type": "execute_result"
    }
   ],
   "source": [
    "word_test.tokens"
   ]
  },
  {
   "cell_type": "code",
   "execution_count": 46,
   "metadata": {},
   "outputs": [],
   "source": [
    "#Test Random word in dataset\n",
    "idx = np.random.choice(len(words))\n",
    "word_test = word_tokenizer.encode(words[idx])\n",
    "phoneme_test = phoneme_tokenizer.encode(phonemes[idx])"
   ]
  },
  {
   "cell_type": "code",
   "execution_count": 47,
   "metadata": {},
   "outputs": [
    {
     "data": {
      "text/plain": [
       "[42, 2, 9, 8, 6, 25, 2, 28, 2, 13]"
      ]
     },
     "execution_count": 47,
     "metadata": {},
     "output_type": "execute_result"
    }
   ],
   "source": [
    "word_test.ids"
   ]
  },
  {
   "cell_type": "code",
   "execution_count": 48,
   "metadata": {},
   "outputs": [
    {
     "data": {
      "text/plain": [
       "['ż', 'a', 'r', 't', 'o', 'w', 'a', 'ł', 'a', 'm']"
      ]
     },
     "execution_count": 48,
     "metadata": {},
     "output_type": "execute_result"
    }
   ],
   "source": [
    "word_test.tokens"
   ]
  },
  {
   "cell_type": "code",
   "execution_count": 49,
   "metadata": {},
   "outputs": [
    {
     "data": {
      "text/plain": [
       "[2, 19, 3, 9, 5, 2, 8, 17, 21, 0, 0, 0]"
      ]
     },
     "execution_count": 49,
     "metadata": {},
     "output_type": "execute_result"
    }
   ],
   "source": [
    "#Padding Test\n",
    "pad_test = word_tokenizer.encode_batch(list(df['word'][1000:1500].values))\n",
    "pad_test[77].ids"
   ]
  },
  {
   "cell_type": "code",
   "execution_count": 50,
   "metadata": {},
   "outputs": [
    {
     "data": {
      "text/plain": [
       "['a', 'b', 'e', 'r', 'n', 'a', 't', 'h', 'y', 'PAD', 'PAD', 'PAD']"
      ]
     },
     "execution_count": 50,
     "metadata": {},
     "output_type": "execute_result"
    }
   ],
   "source": [
    "pad_test[77].tokens"
   ]
  },
  {
   "cell_type": "code",
   "execution_count": 51,
   "metadata": {},
   "outputs": [
    {
     "data": {
      "text/plain": [
       "[1, 1]"
      ]
     },
     "execution_count": 51,
     "metadata": {},
     "output_type": "execute_result"
    }
   ],
   "source": [
    "#Testing unknowns\n",
    "phoneme_tokenizer.encode('t !').ids"
   ]
  },
  {
   "cell_type": "code",
   "execution_count": 52,
   "metadata": {},
   "outputs": [
    {
     "data": {
      "text/plain": [
       "[1]"
      ]
     },
     "execution_count": 52,
     "metadata": {},
     "output_type": "execute_result"
    }
   ],
   "source": [
    "#Testing unknowns\n",
    "word_tokenizer.encode('’').ids"
   ]
  },
  {
   "cell_type": "code",
   "execution_count": 53,
   "metadata": {},
   "outputs": [
    {
     "data": {
      "text/plain": [
       "4"
      ]
     },
     "execution_count": 53,
     "metadata": {},
     "output_type": "execute_result"
    }
   ],
   "source": [
    "#Check that longest label is 'stop', should return 4\n",
    "max_L = 2\n",
    "ix = 'B'\n",
    "for item in df['label']:\n",
    "    if len(item) > max_L:\n",
    "        max_L = len(item)\n",
    "        ix = item\n",
    "max_L"
   ]
  },
  {
   "cell_type": "code",
   "execution_count": 54,
   "metadata": {},
   "outputs": [
    {
     "ename": "IndexError",
     "evalue": "list index out of range",
     "output_type": "error",
     "traceback": [
      "\u001b[0;31m---------------------------------------------------------------------------\u001b[0m",
      "\u001b[0;31mIndexError\u001b[0m                                Traceback (most recent call last)",
      "\u001b[0;32m<ipython-input-54-1e7a41858579>\u001b[0m in \u001b[0;36m<module>\u001b[0;34m\u001b[0m\n\u001b[1;32m      2\u001b[0m \u001b[0;31m# checking for instances where the second token isn't a pad ID, should return an error\u001b[0m\u001b[0;34m\u001b[0m\u001b[0;34m\u001b[0m\u001b[0;34m\u001b[0m\u001b[0m\n\u001b[1;32m      3\u001b[0m \u001b[0;32mfor\u001b[0m \u001b[0mi\u001b[0m \u001b[0;32min\u001b[0m \u001b[0mrange\u001b[0m\u001b[0;34m(\u001b[0m\u001b[0mlen\u001b[0m\u001b[0;34m(\u001b[0m\u001b[0mtokens\u001b[0m\u001b[0;34m)\u001b[0m\u001b[0;34m)\u001b[0m\u001b[0;34m:\u001b[0m\u001b[0;34m\u001b[0m\u001b[0;34m\u001b[0m\u001b[0m\n\u001b[0;32m----> 4\u001b[0;31m     \u001b[0;32mif\u001b[0m \u001b[0mtokens\u001b[0m\u001b[0;34m[\u001b[0m\u001b[0mi\u001b[0m\u001b[0;34m]\u001b[0m\u001b[0;34m.\u001b[0m\u001b[0mids\u001b[0m\u001b[0;34m[\u001b[0m\u001b[0;36m1\u001b[0m\u001b[0;34m]\u001b[0m \u001b[0;34m>\u001b[0m \u001b[0;36m0\u001b[0m\u001b[0;34m:\u001b[0m\u001b[0;34m\u001b[0m\u001b[0;34m\u001b[0m\u001b[0m\n\u001b[0m\u001b[1;32m      5\u001b[0m         \u001b[0mprint\u001b[0m\u001b[0;34m(\u001b[0m\u001b[0mi\u001b[0m\u001b[0;34m)\u001b[0m\u001b[0;34m\u001b[0m\u001b[0;34m\u001b[0m\u001b[0m\n\u001b[1;32m      6\u001b[0m         \u001b[0mprint\u001b[0m\u001b[0;34m(\u001b[0m\u001b[0mtokens\u001b[0m\u001b[0;34m[\u001b[0m\u001b[0mi\u001b[0m\u001b[0;34m]\u001b[0m\u001b[0;34m.\u001b[0m\u001b[0mids\u001b[0m\u001b[0;34m)\u001b[0m\u001b[0;34m\u001b[0m\u001b[0;34m\u001b[0m\u001b[0m\n",
      "\u001b[0;31mIndexError\u001b[0m: list index out of range"
     ]
    }
   ],
   "source": [
    "tokens = phoneme_tokenizer.encode_batch(list(df['label'].values))\n",
    "# checking for instances where the second token isn't a pad ID, should return an error\n",
    "for i in range(len(tokens)):\n",
    "    if tokens[i].ids[1] > 0:\n",
    "        print(i)\n",
    "        print(tokens[i].ids)"
   ]
  },
  {
   "cell_type": "code",
   "execution_count": 55,
   "metadata": {},
   "outputs": [
    {
     "data": {
      "text/plain": [
       "{'ž': 46,\n",
       " 'd': 14,\n",
       " 'º': 80,\n",
       " 'ï': 60,\n",
       " 'è': 50,\n",
       " 'ň': 66,\n",
       " 'y': 21,\n",
       " 'ă': 48,\n",
       " 'é': 27,\n",
       " 'o': 6,\n",
       " 'ò': 73,\n",
       " 'i': 4,\n",
       " 'ø': 77,\n",
       " 'ě': 43,\n",
       " 'PAD': 0,\n",
       " 'e': 3,\n",
       " 'ů': 56,\n",
       " 'í': 29,\n",
       " 'ÿ': 79,\n",
       " 'ä': 26,\n",
       " 'ê': 58,\n",
       " 'ť': 67,\n",
       " 'đ': 65,\n",
       " 'ó': 34,\n",
       " 'ř': 44,\n",
       " 'ț': 54,\n",
       " 'l': 10,\n",
       " 'î': 57,\n",
       " 'ć': 37,\n",
       " 'n': 5,\n",
       " 'õ': 78,\n",
       " 'z': 22,\n",
       " 'x': 32,\n",
       " 'â': 47,\n",
       " 't': 8,\n",
       " 'c': 15,\n",
       " 'ô': 69,\n",
       " 'þ': 62,\n",
       " 'ö': 31,\n",
       " 'ñ': 52,\n",
       " 'á': 30,\n",
       " 'ą': 36,\n",
       " 'æ': 53,\n",
       " 's': 7,\n",
       " 'a': 2,\n",
       " 'ë': 64,\n",
       " 'û': 71,\n",
       " 'ì': 75,\n",
       " 'p': 16,\n",
       " 'š': 40,\n",
       " 'å': 76,\n",
       " 'UNK': 1,\n",
       " 'h': 17,\n",
       " 'f': 24,\n",
       " 'm': 13,\n",
       " 'à': 63,\n",
       " 'č': 35,\n",
       " 'q': 33,\n",
       " 'ù': 74,\n",
       " 'œ': 70,\n",
       " 'ș': 55,\n",
       " 'ż': 42,\n",
       " 'k': 12,\n",
       " 'ð': 49,\n",
       " 'w': 25,\n",
       " 'j': 23,\n",
       " 'b': 19,\n",
       " 'r': 9,\n",
       " 'v': 20,\n",
       " 'ę': 38,\n",
       " 'ý': 39,\n",
       " 'ç': 61,\n",
       " 'ü': 68,\n",
       " 'ď': 72,\n",
       " 'u': 11,\n",
       " 'g': 18,\n",
       " 'ú': 51,\n",
       " 'ń': 45,\n",
       " 'ź': 59,\n",
       " 'ś': 41,\n",
       " 'ł': 28}"
      ]
     },
     "execution_count": 55,
     "metadata": {},
     "output_type": "execute_result"
    }
   ],
   "source": [
    "#Final check for any unwanted punctuation\n",
    "word_tokenizer.get_vocab()"
   ]
  },
  {
   "cell_type": "code",
   "execution_count": 56,
   "metadata": {
    "scrolled": false
   },
   "outputs": [
    {
     "data": {
      "text/plain": [
       "{'EH': 4,\n",
       " 'S': 7,\n",
       " 'F': 24,\n",
       " 'V': 23,\n",
       " 'NG': 37,\n",
       " 'AA': 12,\n",
       " 'D': 16,\n",
       " 'stop': 18,\n",
       " 'EY': 38,\n",
       " 'JH': 40,\n",
       " 'ZH': 41,\n",
       " 'AW': 43,\n",
       " 'OY': 46,\n",
       " 'DH': 45,\n",
       " 'R': 10,\n",
       " 'AO': 19,\n",
       " 'AY': 39,\n",
       " 'IH': 3,\n",
       " 'OH': 13,\n",
       " 'B': 20,\n",
       " 'TH': 42,\n",
       " 'Z': 26,\n",
       " 'Q': 49,\n",
       " 'IY': 31,\n",
       " 'AH': 21,\n",
       " 'PAD': 0,\n",
       " 'T': 6,\n",
       " 'EL': 47,\n",
       " 'K': 8,\n",
       " 'L': 11,\n",
       " 'M': 14,\n",
       " 'AX': 29,\n",
       " 'DX': 30,\n",
       " 'start': 2,\n",
       " 'UW': 17,\n",
       " 'EM': 48,\n",
       " 'G': 25,\n",
       " 'ER': 32,\n",
       " 'SH': 33,\n",
       " 'EN': 50,\n",
       " 'HH': 27,\n",
       " 'UX': 51,\n",
       " 'UNK': 1,\n",
       " 'W': 28,\n",
       " 'UH': 44,\n",
       " 'P': 15,\n",
       " 'CH': 36,\n",
       " 'N': 9,\n",
       " 'AXR': 52,\n",
       " 'AE': 5,\n",
       " 'OW': 35,\n",
       " 'IX': 34,\n",
       " 'Y': 22}"
      ]
     },
     "execution_count": 56,
     "metadata": {},
     "output_type": "execute_result"
    }
   ],
   "source": [
    "phoneme_tokenizer.get_vocab()"
   ]
  },
  {
   "cell_type": "code",
   "execution_count": 57,
   "metadata": {},
   "outputs": [],
   "source": [
    "# Save tokenizers\n",
    "word_tokenizer.save(\"../data/token_encodings/word_tokenizer-universal.json\")\n",
    "phoneme_tokenizer.save('../data/token_encodings/phoneme_tokenizer-universal.json')"
   ]
  }
 ],
 "metadata": {
  "kernelspec": {
   "display_name": "Python 3",
   "language": "python",
   "name": "python3"
  },
  "language_info": {
   "codemirror_mode": {
    "name": "ipython",
    "version": 3
   },
   "file_extension": ".py",
   "mimetype": "text/x-python",
   "name": "python",
   "nbconvert_exporter": "python",
   "pygments_lexer": "ipython3",
   "version": "3.8.3"
  }
 },
 "nbformat": 4,
 "nbformat_minor": 4
}
