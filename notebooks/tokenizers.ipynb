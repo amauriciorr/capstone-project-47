{
 "cells": [
  {
   "cell_type": "code",
   "execution_count": 1,
   "metadata": {},
   "outputs": [],
   "source": [
    "import pandas as pd\n",
    "import numpy as np\n",
    "from string import digits\n",
    "from tokenizers import Tokenizer\n",
    "from tokenizers.models import WordLevel, BPE\n",
    "from tokenizers import normalizers\n",
    "from tokenizers.normalizers import NFD, StripAccents\n",
    "from tokenizers.trainers import WordLevelTrainer, BpeTrainer\n",
    "from tokenizers.pre_tokenizers import Whitespace\n",
    "import re"
   ]
  },
  {
   "cell_type": "markdown",
   "metadata": {},
   "source": [
    "Using BPE algorithm poses as a problem since unseen phonemes are broken down at the character level, i.e. `'IH'` -> `['I', 'H']`. this is a problem for our label set as our crossentropyloss function expects a single label, not two. A workaround to this is to use WordLevel algorithm as it doesn't break down any words (or characters in our case), it simply leaves the string as is. Downside is that instead of tokenizer handling how words are broken into character-level, we have to handle this ourselves."
   ]
  },
  {
   "cell_type": "code",
   "execution_count": 2,
   "metadata": {},
   "outputs": [],
   "source": [
    "# Load in data\n",
    "# adding spacing is done since WordLevel won't do this on its own (unlike BPE)\n",
    "# we'll add this step to datamodule.\n",
    "eng_df = pd.read_csv('../data/model_ready/csv/processed_english.csv')\n",
    "# below adds spacing to words\n",
    "eng_df['word'] = eng_df['word'].map(lambda row: ' '.join(list(row)))\n",
    "# additional minor filtering due to the fact that unwanted words still persist.\n",
    "eng_df['phonemes'] = eng_df['phonemes'].map(lambda row: re.sub(r'\\d', '', row))\n",
    "eng_df['label'] = eng_df['label'].map(lambda row: re.sub(r'\\d', '', row))\n",
    "eng_df = eng_df[~eng_df['phonemes'].str.contains('#')]"
   ]
  },
  {
   "cell_type": "code",
   "execution_count": 3,
   "metadata": {},
   "outputs": [
    {
     "data": {
      "text/html": [
       "<div>\n",
       "<style scoped>\n",
       "    .dataframe tbody tr th:only-of-type {\n",
       "        vertical-align: middle;\n",
       "    }\n",
       "\n",
       "    .dataframe tbody tr th {\n",
       "        vertical-align: top;\n",
       "    }\n",
       "\n",
       "    .dataframe thead th {\n",
       "        text-align: right;\n",
       "    }\n",
       "</style>\n",
       "<table border=\"1\" class=\"dataframe\">\n",
       "  <thead>\n",
       "    <tr style=\"text-align: right;\">\n",
       "      <th></th>\n",
       "      <th>word</th>\n",
       "      <th>phonemes</th>\n",
       "      <th>label</th>\n",
       "    </tr>\n",
       "  </thead>\n",
       "  <tbody>\n",
       "    <tr>\n",
       "      <th>0</th>\n",
       "      <td>' b o u t</td>\n",
       "      <td>start</td>\n",
       "      <td>B</td>\n",
       "    </tr>\n",
       "    <tr>\n",
       "      <th>1</th>\n",
       "      <td>' b o u t</td>\n",
       "      <td>start B</td>\n",
       "      <td>AW</td>\n",
       "    </tr>\n",
       "    <tr>\n",
       "      <th>2</th>\n",
       "      <td>' b o u t</td>\n",
       "      <td>start B AW</td>\n",
       "      <td>T</td>\n",
       "    </tr>\n",
       "    <tr>\n",
       "      <th>3</th>\n",
       "      <td>' b o u t</td>\n",
       "      <td>start B AW T</td>\n",
       "      <td>stop</td>\n",
       "    </tr>\n",
       "    <tr>\n",
       "      <th>4</th>\n",
       "      <td>' c a u s e</td>\n",
       "      <td>start</td>\n",
       "      <td>K</td>\n",
       "    </tr>\n",
       "  </tbody>\n",
       "</table>\n",
       "</div>"
      ],
      "text/plain": [
       "          word      phonemes label\n",
       "0    ' b o u t         start     B\n",
       "1    ' b o u t       start B    AW\n",
       "2    ' b o u t    start B AW     T\n",
       "3    ' b o u t  start B AW T  stop\n",
       "4  ' c a u s e         start     K"
      ]
     },
     "execution_count": 3,
     "metadata": {},
     "output_type": "execute_result"
    }
   ],
   "source": [
    "eng_df.head()"
   ]
  },
  {
   "cell_type": "code",
   "execution_count": 4,
   "metadata": {},
   "outputs": [],
   "source": [
    "words = list(eng_df['word'].values)\n",
    "phonemes = list(eng_df['phonemes'].values)"
   ]
  },
  {
   "cell_type": "code",
   "execution_count": 5,
   "metadata": {},
   "outputs": [],
   "source": [
    "#Initialize tokenizers\n",
    "word_tokenizer = Tokenizer(WordLevel(unk_token='UNK'))\n",
    "phoneme_tokenizer = Tokenizer(WordLevel(unk_token='UNK'))"
   ]
  },
  {
   "cell_type": "code",
   "execution_count": 6,
   "metadata": {},
   "outputs": [],
   "source": [
    "word_trainer = WordLevelTrainer(special_tokens=['PAD', 'UNK'])\n",
    "phone_trainer = WordLevelTrainer(special_tokens=['PAD', 'UNK'])"
   ]
  },
  {
   "cell_type": "code",
   "execution_count": 7,
   "metadata": {},
   "outputs": [],
   "source": [
    "# Add normalizers to remove accents from non-english words\n",
    "\n",
    "normalizer = normalizers.Sequence([NFD(), StripAccents()])\n",
    "word_tokenizer.pre_tokenizer = Whitespace()\n",
    "phoneme_tokenizer.pre_tokenizer = Whitespace()\n",
    "word_tokenizer.normalizer = normalizer\n",
    "phoneme_tokenizer.normalizer = normalizer"
   ]
  },
  {
   "cell_type": "code",
   "execution_count": 8,
   "metadata": {},
   "outputs": [],
   "source": [
    "#Enable padding\n",
    "word_tokenizer.enable_padding(direction='right', pad_id=0, pad_type_id=0, \n",
    "               pad_token='PAD', length=None, pad_to_multiple_of=None)\n",
    "phoneme_tokenizer.enable_padding(direction='right', pad_id=0, pad_type_id=0, \n",
    "               pad_token='PAD', length=None, pad_to_multiple_of=None)"
   ]
  },
  {
   "cell_type": "code",
   "execution_count": 9,
   "metadata": {},
   "outputs": [],
   "source": [
    "# Train Tokenizers\n",
    "word_tokenizer.train_from_iterator(words, trainer=word_trainer)\n",
    "phoneme_tokenizer.train_from_iterator(phonemes, trainer=phone_trainer)"
   ]
  },
  {
   "cell_type": "code",
   "execution_count": 10,
   "metadata": {},
   "outputs": [],
   "source": [
    "# Test Tokenizers\n",
    "word_test = word_tokenizer.encode(words[203])\n",
    "phoneme_test = phoneme_tokenizer.encode(phonemes[48])"
   ]
  },
  {
   "cell_type": "code",
   "execution_count": 11,
   "metadata": {
    "scrolled": false
   },
   "outputs": [
    {
     "data": {
      "text/plain": [
       "[3, 3, 6, 8, 5, 7]"
      ]
     },
     "execution_count": 11,
     "metadata": {},
     "output_type": "execute_result"
    }
   ],
   "source": [
    "word_test.ids"
   ]
  },
  {
   "cell_type": "code",
   "execution_count": 12,
   "metadata": {
    "scrolled": true
   },
   "outputs": [
    {
     "data": {
      "text/plain": [
       "['a', 'a', 'r', 'o', 'n', 's']"
      ]
     },
     "execution_count": 12,
     "metadata": {},
     "output_type": "execute_result"
    }
   ],
   "source": [
    "word_test.tokens"
   ]
  },
  {
   "cell_type": "code",
   "execution_count": 13,
   "metadata": {
    "scrolled": true
   },
   "outputs": [
    {
     "data": {
      "text/plain": [
       "['start', 'EH', 'S']"
      ]
     },
     "execution_count": 13,
     "metadata": {},
     "output_type": "execute_result"
    }
   ],
   "source": [
    "phoneme_test.tokens"
   ]
  },
  {
   "cell_type": "code",
   "execution_count": 14,
   "metadata": {
    "scrolled": true
   },
   "outputs": [
    {
     "data": {
      "text/plain": [
       "[2, 12, 7]"
      ]
     },
     "execution_count": 14,
     "metadata": {},
     "output_type": "execute_result"
    }
   ],
   "source": [
    "phoneme_test.ids"
   ]
  },
  {
   "cell_type": "code",
   "execution_count": 15,
   "metadata": {},
   "outputs": [
    {
     "data": {
      "text/plain": [
       "True"
      ]
     },
     "execution_count": 15,
     "metadata": {},
     "output_type": "execute_result"
    }
   ],
   "source": [
    "word_tokenizer.encode('!').ids[0] == word_tokenizer.get_vocab()['UNK']"
   ]
  },
  {
   "cell_type": "code",
   "execution_count": 16,
   "metadata": {},
   "outputs": [
    {
     "data": {
      "text/html": [
       "<div>\n",
       "<style scoped>\n",
       "    .dataframe tbody tr th:only-of-type {\n",
       "        vertical-align: middle;\n",
       "    }\n",
       "\n",
       "    .dataframe tbody tr th {\n",
       "        vertical-align: top;\n",
       "    }\n",
       "\n",
       "    .dataframe thead th {\n",
       "        text-align: right;\n",
       "    }\n",
       "</style>\n",
       "<table border=\"1\" class=\"dataframe\">\n",
       "  <thead>\n",
       "    <tr style=\"text-align: right;\">\n",
       "      <th></th>\n",
       "      <th>word</th>\n",
       "      <th>phonemes</th>\n",
       "      <th>label</th>\n",
       "    </tr>\n",
       "  </thead>\n",
       "  <tbody>\n",
       "    <tr>\n",
       "      <th>0</th>\n",
       "      <td>a b a d ž i j a</td>\n",
       "      <td>start</td>\n",
       "      <td>B</td>\n",
       "    </tr>\n",
       "    <tr>\n",
       "      <th>1</th>\n",
       "      <td>a b a d ž i j a</td>\n",
       "      <td>start B</td>\n",
       "      <td>AE</td>\n",
       "    </tr>\n",
       "    <tr>\n",
       "      <th>2</th>\n",
       "      <td>a b a d ž i j a</td>\n",
       "      <td>start B AE</td>\n",
       "      <td>JH</td>\n",
       "    </tr>\n",
       "    <tr>\n",
       "      <th>3</th>\n",
       "      <td>a b a d ž i j a</td>\n",
       "      <td>start B AE JH</td>\n",
       "      <td>IH</td>\n",
       "    </tr>\n",
       "    <tr>\n",
       "      <th>4</th>\n",
       "      <td>a b a d ž i j a</td>\n",
       "      <td>start B AE JH IH</td>\n",
       "      <td>Y</td>\n",
       "    </tr>\n",
       "  </tbody>\n",
       "</table>\n",
       "</div>"
      ],
      "text/plain": [
       "              word          phonemes label\n",
       "0  a b a d ž i j a             start     B\n",
       "1  a b a d ž i j a           start B    AE\n",
       "2  a b a d ž i j a        start B AE    JH\n",
       "3  a b a d ž i j a     start B AE JH    IH\n",
       "4  a b a d ž i j a  start B AE JH IH     Y"
      ]
     },
     "execution_count": 16,
     "metadata": {},
     "output_type": "execute_result"
    }
   ],
   "source": [
    "# Test on different language\n",
    "cro_df = pd.read_csv('../data/model_ready/csv/processed_croatian.csv')\n",
    "cro_df['word'] = cro_df['word'].map(lambda row: ' '.join(list(row)))\n",
    "cro_df.head()"
   ]
  },
  {
   "cell_type": "code",
   "execution_count": 17,
   "metadata": {
    "scrolled": true
   },
   "outputs": [],
   "source": [
    "cro_test = word_tokenizer.encode_batch(list(cro_df['word'].values))"
   ]
  },
  {
   "cell_type": "code",
   "execution_count": 18,
   "metadata": {},
   "outputs": [
    {
     "data": {
      "text/plain": [
       "[3, 18, 3, 12, 28, 4, 30, 3, 0, 0, 0, 0, 0, 0, 0, 0, 0, 0, 0, 0, 0, 0, 0]"
      ]
     },
     "execution_count": 18,
     "metadata": {},
     "output_type": "execute_result"
    }
   ],
   "source": [
    "cro_test[0].ids"
   ]
  },
  {
   "cell_type": "code",
   "execution_count": 19,
   "metadata": {},
   "outputs": [
    {
     "data": {
      "text/plain": [
       "['a',\n",
       " 'b',\n",
       " 'a',\n",
       " 'd',\n",
       " 'z',\n",
       " 'i',\n",
       " 'j',\n",
       " 'a',\n",
       " 'PAD',\n",
       " 'PAD',\n",
       " 'PAD',\n",
       " 'PAD',\n",
       " 'PAD',\n",
       " 'PAD',\n",
       " 'PAD',\n",
       " 'PAD',\n",
       " 'PAD',\n",
       " 'PAD',\n",
       " 'PAD',\n",
       " 'PAD',\n",
       " 'PAD',\n",
       " 'PAD',\n",
       " 'PAD']"
      ]
     },
     "execution_count": 19,
     "metadata": {},
     "output_type": "execute_result"
    }
   ],
   "source": [
    "cro_test[0].tokens"
   ]
  },
  {
   "cell_type": "code",
   "execution_count": 20,
   "metadata": {},
   "outputs": [
    {
     "data": {
      "text/plain": [
       "[3, 18, 3, 12, 28, 4, 30, 3, 0, 0, 0, 0, 0, 0, 0, 0, 0, 0, 0, 0, 0, 0, 0]"
      ]
     },
     "execution_count": 20,
     "metadata": {},
     "output_type": "execute_result"
    }
   ],
   "source": [
    "cro_test[0].ids"
   ]
  },
  {
   "cell_type": "code",
   "execution_count": 21,
   "metadata": {},
   "outputs": [
    {
     "data": {
      "text/plain": [
       "{'JH': 32,\n",
       " 'ZH': 40,\n",
       " 'D': 13,\n",
       " 'L': 9,\n",
       " 'AO': 23,\n",
       " 'G': 22,\n",
       " 'HH': 24,\n",
       " 'SH': 31,\n",
       " 'P': 16,\n",
       " 'DH': 41,\n",
       " 'EH': 12,\n",
       " 'AE': 15,\n",
       " 'Z': 25,\n",
       " 'ER': 19,\n",
       " 'OW': 21,\n",
       " 'R': 4,\n",
       " 'NG': 34,\n",
       " 'AH': 3,\n",
       " 'TH': 37,\n",
       " 'UNK': 1,\n",
       " 'T': 10,\n",
       " 'PAD': 0,\n",
       " 'UW': 30,\n",
       " 'AA': 14,\n",
       " 'OY': 39,\n",
       " 'S': 7,\n",
       " 'N': 5,\n",
       " 'IY': 18,\n",
       " 'UH': 38,\n",
       " 'IH': 6,\n",
       " 'K': 8,\n",
       " 'EY': 26,\n",
       " 'AY': 28,\n",
       " 'start': 2,\n",
       " 'B': 17,\n",
       " 'F': 20,\n",
       " 'V': 27,\n",
       " 'W': 29,\n",
       " 'Y': 33,\n",
       " 'M': 11,\n",
       " 'CH': 35,\n",
       " 'AW': 36}"
      ]
     },
     "execution_count": 21,
     "metadata": {},
     "output_type": "execute_result"
    }
   ],
   "source": [
    "phoneme_tokenizer.get_vocab()"
   ]
  },
  {
   "cell_type": "code",
   "execution_count": 22,
   "metadata": {},
   "outputs": [
    {
     "data": {
      "text/plain": [
       "[1, 1]"
      ]
     },
     "execution_count": 22,
     "metadata": {},
     "output_type": "execute_result"
    }
   ],
   "source": [
    "phoneme_tokenizer.encode('t !').ids"
   ]
  },
  {
   "cell_type": "code",
   "execution_count": 23,
   "metadata": {},
   "outputs": [],
   "source": [
    "cro_test_labels = phoneme_tokenizer.encode_batch(list(cro_df['label'].values))"
   ]
  },
  {
   "cell_type": "code",
   "execution_count": 24,
   "metadata": {},
   "outputs": [
    {
     "data": {
      "text/plain": [
       "['Y']"
      ]
     },
     "execution_count": 24,
     "metadata": {},
     "output_type": "execute_result"
    }
   ],
   "source": [
    "cro_test_labels[4].tokens"
   ]
  },
  {
   "cell_type": "code",
   "execution_count": 25,
   "metadata": {},
   "outputs": [
    {
     "data": {
      "text/plain": [
       "[33]"
      ]
     },
     "execution_count": 25,
     "metadata": {},
     "output_type": "execute_result"
    }
   ],
   "source": [
    "cro_test_labels[4].ids"
   ]
  },
  {
   "cell_type": "code",
   "execution_count": 26,
   "metadata": {},
   "outputs": [],
   "source": [
    "cro_test_phones = phoneme_tokenizer.encode_batch(list(cro_df['phonemes'].values))"
   ]
  },
  {
   "cell_type": "code",
   "execution_count": 27,
   "metadata": {},
   "outputs": [
    {
     "data": {
      "text/plain": [
       "[2, 0, 0, 0, 0, 0, 0, 0, 0, 0, 0, 0, 0, 0, 0, 0, 0, 0, 0, 0, 0, 0]"
      ]
     },
     "execution_count": 27,
     "metadata": {},
     "output_type": "execute_result"
    }
   ],
   "source": [
    "cro_test_phones[0].ids"
   ]
  },
  {
   "cell_type": "code",
   "execution_count": 28,
   "metadata": {},
   "outputs": [
    {
     "data": {
      "text/plain": [
       "['start',\n",
       " 'PAD',\n",
       " 'PAD',\n",
       " 'PAD',\n",
       " 'PAD',\n",
       " 'PAD',\n",
       " 'PAD',\n",
       " 'PAD',\n",
       " 'PAD',\n",
       " 'PAD',\n",
       " 'PAD',\n",
       " 'PAD',\n",
       " 'PAD',\n",
       " 'PAD',\n",
       " 'PAD',\n",
       " 'PAD',\n",
       " 'PAD',\n",
       " 'PAD',\n",
       " 'PAD',\n",
       " 'PAD',\n",
       " 'PAD',\n",
       " 'PAD']"
      ]
     },
     "execution_count": 28,
     "metadata": {},
     "output_type": "execute_result"
    }
   ],
   "source": [
    "cro_test_phones[0].tokens"
   ]
  },
  {
   "cell_type": "code",
   "execution_count": 29,
   "metadata": {},
   "outputs": [
    {
     "data": {
      "text/plain": [
       "0"
      ]
     },
     "execution_count": 29,
     "metadata": {},
     "output_type": "execute_result"
    }
   ],
   "source": [
    "word_tokenizer.get_vocab()['PAD']"
   ]
  },
  {
   "cell_type": "code",
   "execution_count": 30,
   "metadata": {},
   "outputs": [
    {
     "data": {
      "text/plain": [
       "0"
      ]
     },
     "execution_count": 30,
     "metadata": {},
     "output_type": "execute_result"
    }
   ],
   "source": [
    "phoneme_tokenizer.get_vocab()['PAD']"
   ]
  },
  {
   "cell_type": "code",
   "execution_count": 31,
   "metadata": {},
   "outputs": [],
   "source": [
    "# Save tokenizers\n",
    "word_tokenizer.save(\"../data/token_encodings/word_tokenizer-eng.json\")\n",
    "phoneme_tokenizer.save('../data/token_encodings/phoneme_tokenizer-eng.json')"
   ]
  },
  {
   "cell_type": "markdown",
   "metadata": {},
   "source": [
    "# NOTE\n",
    "Below cell is a **one-time** run, only done to appropriately and persistently process our base data. no need to run again."
   ]
  },
  {
   "cell_type": "code",
   "execution_count": 34,
   "metadata": {},
   "outputs": [
    {
     "data": {
      "text/plain": [
       "\"\\neng_df = pd.read_csv('../data/model_ready/csv/processed_english.csv')\\n# below adds spacing to words\\n# additional minor filtering due to the fact that unwanted words still persist.\\neng_df['phonemes'] = eng_df['phonemes'].map(lambda row: re.sub(r'\\\\d', '', row))\\neng_df['label'] = eng_df['label'].map(lambda row: re.sub(r'\\\\d', '', row))\\neng_df = eng_df[~eng_df['phonemes'].str.contains('#')]\\neng_df.to_csv('../data/model_ready/csv/processed_english.csv', index=False)\\n\""
      ]
     },
     "execution_count": 34,
     "metadata": {},
     "output_type": "execute_result"
    }
   ],
   "source": [
    "# Load in data\n",
    "# adding spacing is done since WordLevel won't do this on its own (unlike BPE)\n",
    "# we'll add this step to datamodule.\n",
    "\"\"\"\n",
    "eng_df = pd.read_csv('../data/model_ready/csv/processed_english.csv')\n",
    "# below adds spacing to words\n",
    "# additional minor filtering due to the fact that unwanted words still persist.\n",
    "eng_df['phonemes'] = eng_df['phonemes'].map(lambda row: re.sub(r'\\d', '', row))\n",
    "eng_df['label'] = eng_df['label'].map(lambda row: re.sub(r'\\d', '', row))\n",
    "eng_df = eng_df[~eng_df['phonemes'].str.contains('#')]\n",
    "eng_df.to_csv('../data/model_ready/csv/processed_english.csv', index=False)\n",
    "\"\"\""
   ]
  },
  {
   "cell_type": "code",
   "execution_count": 120,
   "metadata": {},
   "outputs": [
    {
     "data": {
      "text/plain": [
       "4"
      ]
     },
     "execution_count": 120,
     "metadata": {},
     "output_type": "execute_result"
    }
   ],
   "source": [
    "max_L = 2\n",
    "ix = 'B'\n",
    "for item in cro_df['label']:\n",
    "    if len(item) > max_L:\n",
    "        max_L = len(item)\n",
    "        ix = item\n",
    "max_L"
   ]
  },
  {
   "cell_type": "code",
   "execution_count": 121,
   "metadata": {
    "scrolled": true
   },
   "outputs": [],
   "source": [
    "eng_tokens = phoneme_tokenizer.encode_batch(list(eng_df['label'].values))"
   ]
  },
  {
   "cell_type": "code",
   "execution_count": 122,
   "metadata": {},
   "outputs": [
    {
     "ename": "IndexError",
     "evalue": "list index out of range",
     "output_type": "error",
     "traceback": [
      "\u001b[0;31m---------------------------------------------------------------------------\u001b[0m",
      "\u001b[0;31mIndexError\u001b[0m                                Traceback (most recent call last)",
      "\u001b[0;32m<ipython-input-122-3f8658143d75>\u001b[0m in \u001b[0;36m<module>\u001b[0;34m\u001b[0m\n\u001b[1;32m      1\u001b[0m \u001b[0;31m# checking for instances where the second token isn't a pad ID\u001b[0m\u001b[0;34m\u001b[0m\u001b[0;34m\u001b[0m\u001b[0;34m\u001b[0m\u001b[0m\n\u001b[1;32m      2\u001b[0m \u001b[0;32mfor\u001b[0m \u001b[0mi\u001b[0m \u001b[0;32min\u001b[0m \u001b[0mrange\u001b[0m\u001b[0;34m(\u001b[0m\u001b[0mlen\u001b[0m\u001b[0;34m(\u001b[0m\u001b[0meng_tokens\u001b[0m\u001b[0;34m)\u001b[0m\u001b[0;34m)\u001b[0m\u001b[0;34m:\u001b[0m\u001b[0;34m\u001b[0m\u001b[0;34m\u001b[0m\u001b[0m\n\u001b[0;32m----> 3\u001b[0;31m     \u001b[0;32mif\u001b[0m \u001b[0meng_tokens\u001b[0m\u001b[0;34m[\u001b[0m\u001b[0mi\u001b[0m\u001b[0;34m]\u001b[0m\u001b[0;34m.\u001b[0m\u001b[0mids\u001b[0m\u001b[0;34m[\u001b[0m\u001b[0;36m1\u001b[0m\u001b[0;34m]\u001b[0m \u001b[0;34m>\u001b[0m \u001b[0;36m0\u001b[0m\u001b[0;34m:\u001b[0m\u001b[0;34m\u001b[0m\u001b[0;34m\u001b[0m\u001b[0m\n\u001b[0m\u001b[1;32m      4\u001b[0m         \u001b[0mprint\u001b[0m\u001b[0;34m(\u001b[0m\u001b[0mi\u001b[0m\u001b[0;34m)\u001b[0m\u001b[0;34m\u001b[0m\u001b[0;34m\u001b[0m\u001b[0m\n\u001b[1;32m      5\u001b[0m         \u001b[0mprint\u001b[0m\u001b[0;34m(\u001b[0m\u001b[0meng_tokens\u001b[0m\u001b[0;34m[\u001b[0m\u001b[0mi\u001b[0m\u001b[0;34m]\u001b[0m\u001b[0;34m.\u001b[0m\u001b[0mids\u001b[0m\u001b[0;34m)\u001b[0m\u001b[0;34m\u001b[0m\u001b[0;34m\u001b[0m\u001b[0m\n",
      "\u001b[0;31mIndexError\u001b[0m: list index out of range"
     ]
    }
   ],
   "source": [
    "# checking for instances where the second token isn't a pad ID\n",
    "for i in range(len(eng_tokens)):\n",
    "    if eng_tokens[i].ids[1] > 0:\n",
    "        print(i)\n",
    "        print(eng_tokens[i].ids)"
   ]
  }
 ],
 "metadata": {
  "kernelspec": {
   "display_name": "Python 3",
   "language": "python",
   "name": "python3"
  },
  "language_info": {
   "codemirror_mode": {
    "name": "ipython",
    "version": 3
   },
   "file_extension": ".py",
   "mimetype": "text/x-python",
   "name": "python",
   "nbconvert_exporter": "python",
   "pygments_lexer": "ipython3",
   "version": "3.6.5"
  }
 },
 "nbformat": 4,
 "nbformat_minor": 4
}
