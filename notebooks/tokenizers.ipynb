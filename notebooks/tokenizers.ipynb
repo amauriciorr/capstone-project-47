{
 "cells": [
  {
   "cell_type": "code",
   "execution_count": 4,
   "metadata": {},
   "outputs": [],
   "source": [
    "import pandas as pd\n",
    "import numpy as np\n",
    "from tokenizers import Tokenizer\n",
    "from tokenizers.models import BPE"
   ]
  },
  {
   "cell_type": "code",
   "execution_count": 56,
   "metadata": {},
   "outputs": [],
   "source": [
    "#Initialize tokenizers\n",
    "word_tokenizer = Tokenizer(BPE())\n",
    "phoneme_tokenizer = Tokenizer(BPE())"
   ]
  },
  {
   "cell_type": "code",
   "execution_count": 3,
   "metadata": {},
   "outputs": [],
   "source": [
    "# Commenting out for now\n",
    "# from tokenizers.trainers import BpeTrainer\n",
    "\n",
    "# trainer = BpeTrainer(special_tokens=[\"[UNK]\", \"[CLS]\", \"[SEP]\", \"[PAD]\", \"[MASK]\"])"
   ]
  },
  {
   "cell_type": "code",
   "execution_count": 43,
   "metadata": {},
   "outputs": [
    {
     "data": {
      "text/plain": [
       "[\"'bout B AW1 T\",\n",
       " \"'cause K AH0 Z\",\n",
       " \"'course K AO1 R S\",\n",
       " \"'cuse K Y UW1 Z\",\n",
       " \"'em AH0 M\"]"
      ]
     },
     "execution_count": 43,
     "metadata": {},
     "output_type": "execute_result"
    }
   ],
   "source": [
    "# Read in data\n",
    "english = '../datasets/cmudict.dict'\n",
    "data = []\n",
    "with open(english, 'r') as infile:\n",
    "        for line in infile:\n",
    "                    data.append((line.rstrip('\\n')))\n",
    "data[:5]"
   ]
  },
  {
   "cell_type": "code",
   "execution_count": 58,
   "metadata": {},
   "outputs": [],
   "source": [
    "# Whitespace for word tokenization\n",
    "from tokenizers.pre_tokenizers import Whitespace\n",
    "\n",
    "word_tokenizer.pre_tokenizer = Whitespace()\n",
    "phoneme_tokenizer.pre_tokenizer = Whitespace()"
   ]
  },
  {
   "cell_type": "code",
   "execution_count": 52,
   "metadata": {},
   "outputs": [
    {
     "data": {
      "text/plain": [
       "[\"'bout\", \"'cause\", \"'course\", \"'cuse\", \"'em\"]"
      ]
     },
     "execution_count": 52,
     "metadata": {},
     "output_type": "execute_result"
    }
   ],
   "source": [
    "# Get words only\n",
    "words = [item.split(' ')[0] for item in data]\n",
    "words[:5]"
   ]
  },
  {
   "cell_type": "code",
   "execution_count": 53,
   "metadata": {},
   "outputs": [],
   "source": [
    "# Remove extras\n",
    "for word in words:\n",
    "    if '(' in word:\n",
    "        words.remove(word)"
   ]
  },
  {
   "cell_type": "code",
   "execution_count": 54,
   "metadata": {},
   "outputs": [],
   "source": [
    "# Separate by character\n",
    "words = [[letter for letter in item] for item in words]"
   ]
  },
  {
   "cell_type": "code",
   "execution_count": 45,
   "metadata": {},
   "outputs": [
    {
     "data": {
      "text/plain": [
       "[['B', 'AW1', 'T'],\n",
       " ['K', 'AH0', 'Z'],\n",
       " ['K', 'AO1', 'R', 'S'],\n",
       " ['K', 'Y', 'UW1', 'Z'],\n",
       " ['AH0', 'M']]"
      ]
     },
     "execution_count": 45,
     "metadata": {},
     "output_type": "execute_result"
    }
   ],
   "source": [
    "# Get phonemes\n",
    "phonemes = [item.split(' ')[1:] for item in data]\n",
    "phonemes[:5]"
   ]
  },
  {
   "cell_type": "code",
   "execution_count": 57,
   "metadata": {},
   "outputs": [],
   "source": [
    "# Train Tokenizers\n",
    "word_tokenizer.train_from_iterator(words)\n",
    "phoneme_tokenizer.train_from_iterator(phonemes)"
   ]
  },
  {
   "cell_type": "code",
   "execution_count": 66,
   "metadata": {},
   "outputs": [],
   "source": [
    "# Test Tokenizers\n",
    "word_test = word_tokenizer.encode(''.join(words[203]))\n",
    "phoneme_test = phoneme_tokenizer.encode(words[48][0])"
   ]
  },
  {
   "cell_type": "code",
   "execution_count": 65,
   "metadata": {},
   "outputs": [
    {
     "data": {
      "text/plain": [
       "'ability'"
      ]
     },
     "execution_count": 65,
     "metadata": {},
     "output_type": "execute_result"
    }
   ],
   "source": [
    "''.join(words[203])"
   ]
  },
  {
   "cell_type": "code",
   "execution_count": 68,
   "metadata": {
    "scrolled": true
   },
   "outputs": [
    {
     "data": {
      "text/plain": [
       "['a', 'b', 'i', 'l', 'i', 't', 'y']"
      ]
     },
     "execution_count": 68,
     "metadata": {},
     "output_type": "execute_result"
    }
   ],
   "source": [
    "word_test.tokens"
   ]
  },
  {
   "cell_type": "code",
   "execution_count": 71,
   "metadata": {},
   "outputs": [
    {
     "data": {
      "text/plain": [
       "['a']"
      ]
     },
     "execution_count": 71,
     "metadata": {},
     "output_type": "execute_result"
    }
   ],
   "source": [
    "phoneme_test.tokens"
   ]
  },
  {
   "cell_type": "code",
   "execution_count": 70,
   "metadata": {},
   "outputs": [
    {
     "data": {
      "text/plain": [
       "[29]"
      ]
     },
     "execution_count": 70,
     "metadata": {},
     "output_type": "execute_result"
    }
   ],
   "source": [
    "phoneme_test.ids"
   ]
  },
  {
   "cell_type": "code",
   "execution_count": 72,
   "metadata": {},
   "outputs": [],
   "source": [
    "# Save tokenizers\n",
    "word_tokenizer.save(\"word_tokenizer-eng.json\")\n",
    "phoneme_tokenizer.save('phoneme_tokenizer-eng.json')"
   ]
  }
 ],
 "metadata": {
  "kernelspec": {
   "display_name": "Python 3",
   "language": "python",
   "name": "python3"
  },
  "language_info": {
   "codemirror_mode": {
    "name": "ipython",
    "version": 3
   },
   "file_extension": ".py",
   "mimetype": "text/x-python",
   "name": "python",
   "nbconvert_exporter": "python",
   "pygments_lexer": "ipython3",
   "version": "3.8.3"
  }
 },
 "nbformat": 4,
 "nbformat_minor": 4
}
